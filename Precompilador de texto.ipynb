{
 "cells": [
  {
   "cell_type": "markdown",
   "metadata": {},
   "source": [
    "# Compiladorde texto, tablas e imágenes previo a Latex"
   ]
  },
  {
   "cell_type": "code",
   "execution_count": 1,
   "metadata": {},
   "outputs": [
    {
     "name": "stderr",
     "output_type": "stream",
     "text": [
      "/home/egidio/anaconda3/lib/python3.6/site-packages/statsmodels/compat/pandas.py:56: FutureWarning: The pandas.core.datetools module is deprecated and will be removed in a future version. Please use the pandas.tseries module instead.\n",
      "  from pandas.core import datetools\n"
     ]
    }
   ],
   "source": [
    "import pandas as pd\n",
    "import numpy as np\n",
    "import matplotlib.pyplot as plt\n",
    "import scipy \n",
    "from scipy import stats\n",
    "import statsmodels.api as sm\n",
    "from statsmodels.formula.api import ols\n",
    "import datetime as dt\n",
    "import datetime\n",
    "from datetime import timedelta  \n",
    "import timeboard as tb # turnos \n",
    "\n",
    "\n",
    "import os\n",
    "from pyexcel_ods import get_data\n",
    "from matplotlib_venn import venn3\n",
    "from matplotlib_venn import venn2, venn2_circles\n",
    "import math\n",
    "\n",
    "from IPython.core.interactiveshell import InteractiveShell\n",
    "InteractiveShell.ast_node_interactivity = \"all\"\n",
    "%matplotlib inline"
   ]
  },
  {
   "cell_type": "markdown",
   "metadata": {},
   "source": [
    "# Archivos en la carpeta"
   ]
  },
  {
   "cell_type": "code",
   "execution_count": null,
   "metadata": {
    "collapsed": true
   },
   "outputs": [],
   "source": []
  },
  {
   "cell_type": "code",
   "execution_count": 2,
   "metadata": {},
   "outputs": [
    {
     "data": {
      "text/plain": [
       "['./resultados/01fig_atenciones_by_hosp.png',\n",
       " './resultados/01fig_atenciones_by_hosp.capt',\n",
       " './resultados/Fig01c_atenciones_by_hosp.capt',\n",
       " './resultados/01Descrip_03cap01.cap',\n",
       " './resultados/01Descrip_02tab01.tab',\n",
       " './resultados/Fig01_atenciones_by_hosp.png',\n",
       " './resultados/atenciones_by_hosp.png',\n",
       " './resultados/01Descrip_01_tex01.txt',\n",
       " './resultados/02Hospitales/2HOSP_01PAC_04imagen_H_petorcacumplimiento_atencion_tiempos.png',\n",
       " './resultados/02Hospitales/2HOSP_01PAC_03texto_H_petorca.txt',\n",
       " './resultados/02Hospitales/2HOSP_01PAC_04imagen_H_caleracajas_y_bigotes_tiempos.png',\n",
       " './resultados/02Hospitales/2HOSP_01PAC_01texto_HGF.txt',\n",
       " './resultados/02Hospitales/2HOSP_01PAC_03texto_H_quintero.txt',\n",
       " './resultados/02Hospitales/2HOSP_01PAC_04imagen_H_liguacajas_y_bigotes_tiempos.png',\n",
       " './resultados/02Hospitales/2HOSP_01PAC_01imagen_H_limache.png',\n",
       " './resultados/02Hospitales/2HOSP_01PAC_04imagen_H_caleracumplimiento_atencion_tiempos.png',\n",
       " './resultados/02Hospitales/2HOSP_01PAC_02texto_H_cabildo.txt',\n",
       " './resultados/02Hospitales/2HOSP_01PAC_04texto_H_calera.txt',\n",
       " './resultados/02Hospitales/2HOSP_01PAC_01texto_H_penablanca.txt',\n",
       " './resultados/02Hospitales/2HOSP_01PAC_04imagen_H_quilpueatenciones_por_hora_y_triage.png',\n",
       " './resultados/02Hospitales/2HOSP_01PAC_04imagen_H_quillota.png',\n",
       " './resultados/02Hospitales/2HOSP_01PAC_01texto_H_cabildo.txt',\n",
       " './resultados/02Hospitales/2HOSP_01PAC_01texto_H_quintero.txt',\n",
       " './resultados/02Hospitales/2HOSP_01PAC_04texto_HGF.txt',\n",
       " './resultados/02Hospitales/2HOSP_01PAC_01imagen_H_penablanca.png',\n",
       " './resultados/02Hospitales/2HOSP_01PAC_04imagen_H_penablancacumplimiento_atencion_tiempos.png',\n",
       " './resultados/02Hospitales/2HOSP_01PAC_01ima_caption_H_penablanca.caption',\n",
       " './resultados/02Hospitales/2HOSP_01PAC_04imagen_HGFcajas_y_bigotes_tiempos.png',\n",
       " './resultados/02Hospitales/2HOSP_01PAC_04imagen_H_petorca.png',\n",
       " './resultados/02Hospitales/2HOSP_01PAC_04imagen_H_cabildo.png',\n",
       " './resultados/02Hospitales/2HOSP_01PAC_03texto_H_quilpue.txt',\n",
       " './resultados/02Hospitales/2HOSP_01PAC_04imagen_H_petorcaatenciones_por_hora_y_triage.png',\n",
       " './resultados/02Hospitales/2HOSP_01PAC_03texto_H_ligua.txt',\n",
       " './resultados/02Hospitales/2HOSP_01PAC_02texto_H_quilpue.txt',\n",
       " './resultados/02Hospitales/2HOSP_01PAC_04texto_H_ligua.txt',\n",
       " './resultados/02Hospitales/2HOSP_01PAC_04imagen_H_penablanca.png',\n",
       " './resultados/02Hospitales/2HOSP_01PAC_01ima_caption_H_limache.caption',\n",
       " './resultados/02Hospitales/2HOSP_01PAC_03texto_H_calera.txt',\n",
       " './resultados/02Hospitales/2HOSP_01PAC_01texto_H_ligua.txt',\n",
       " './resultados/02Hospitales/2HOSP_01PAC_02texto_H_ligua.txt',\n",
       " './resultados/02Hospitales/2HOSP_01PAC_04imagen_H_quilpue.png',\n",
       " './resultados/02Hospitales/2HOSP_01PAC_04imagen_H_quinterocumplimiento_atencion_tiempos.png',\n",
       " './resultados/02Hospitales/2HOSP_01PAC_02texto_H_limache.txt',\n",
       " './resultados/02Hospitales/2HOSP_01PAC_02texto_HGF.txt',\n",
       " './resultados/02Hospitales/2HOSP_01PAC_04texto_H_cabildo.txt',\n",
       " './resultados/02Hospitales/2HOSP_01PAC_04imagen_H_quintero.png',\n",
       " './resultados/02Hospitales/2HOSP_01PAC_01imagen_H_ligua.png',\n",
       " './resultados/02Hospitales/2HOSP_01PAC_04imagen_HGFatenciones_por_hora_y_triage.png',\n",
       " './resultados/02Hospitales/2HOSP_01PAC_01texto_H_quilpue.txt',\n",
       " './resultados/02Hospitales/2HOSP_01PAC_04imagen_H_cabildocumplimiento_atencion_tiempos.png',\n",
       " './resultados/02Hospitales/2HOSP_01PAC_01imagen_HGF.png',\n",
       " './resultados/02Hospitales/2HOSP_01PAC_01ima_caption_H_quillota.caption',\n",
       " './resultados/02Hospitales/2HOSP_01PAC_03texto_HGF.txt',\n",
       " './resultados/02Hospitales/2HOSP_01PAC_04imagen_H_penablancacajas_y_bigotes_tiempos.png',\n",
       " './resultados/02Hospitales/2HOSP_01PAC_04imagen_H_penablancaatenciones_por_hora_y_triage.png',\n",
       " './resultados/02Hospitales/2HOSP_01PAC_04imagen_H_limache.png',\n",
       " './resultados/02Hospitales/2HOSP_01PAC_04texto_H_quintero.txt',\n",
       " './resultados/02Hospitales/2HOSP_01PAC_02texto_H_petorca.txt',\n",
       " './resultados/02Hospitales/2HOSP_01PAC_04imagen_H_caleraatenciones_por_hora_y_triage.png',\n",
       " './resultados/02Hospitales/2HOSP_01PAC_01texto_H_limache.txt',\n",
       " './resultados/02Hospitales/2HOSP_01PAC_04imagen_H_quinterocajas_y_bigotes_tiempos.png',\n",
       " './resultados/02Hospitales/2HOSP_01PAC_01imagen_H_quilpue.png',\n",
       " './resultados/02Hospitales/2HOSP_01PAC_02texto_H_penablanca.txt',\n",
       " './resultados/02Hospitales/2HOSP_01PAC_04imagen_H_cabildoatenciones_por_hora_y_triage.png',\n",
       " './resultados/02Hospitales/2HOSP_01PAC_01ima_caption_H_cabildo.caption',\n",
       " './resultados/02Hospitales/2HOSP_01PAC_01imagen_H_quillota.png',\n",
       " './resultados/02Hospitales/2HOSP_01PAC_01imagen_H_petorca.png',\n",
       " './resultados/02Hospitales/2HOSP_01PAC_04imagen_H_quilpuecajas_y_bigotes_tiempos.png',\n",
       " './resultados/02Hospitales/2HOSP_01PAC_03texto_H_limache.txt',\n",
       " './resultados/02Hospitales/2HOSP_01PAC_04imagen_H_ligua.png',\n",
       " './resultados/02Hospitales/2HOSP_01PAC_04imagen_H_limacheatenciones_por_hora_y_triage.png',\n",
       " './resultados/02Hospitales/2HOSP_01PAC_02texto_H_calera.txt',\n",
       " './resultados/02Hospitales/2HOSP_01PAC_04imagen_HGF.png',\n",
       " './resultados/02Hospitales/2HOSP_01PAC_04texto_H_quilpue.txt',\n",
       " './resultados/02Hospitales/2HOSP_01PAC_01ima_caption_H_quilpue.caption',\n",
       " './resultados/02Hospitales/2HOSP_01PAC_01ima_caption_HGF.caption',\n",
       " './resultados/02Hospitales/2HOSP_01PAC_01ima_caption_H_ligua.caption',\n",
       " './resultados/02Hospitales/2HOSP_01PAC_04texto_H_quillota.txt',\n",
       " './resultados/02Hospitales/2HOSP_01PAC_04imagen_HGFcumplimiento_atencion_tiempos.png',\n",
       " './resultados/02Hospitales/2HOSP_01PAC_01imagen_H_calera.png',\n",
       " './resultados/02Hospitales/2HOSP_01PAC_03texto_H_quillota.txt',\n",
       " './resultados/02Hospitales/2HOSP_01PAC_01ima_caption_H_petorca.caption',\n",
       " './resultados/02Hospitales/2HOSP_01PAC_01ima_caption_H_calera.caption',\n",
       " './resultados/02Hospitales/2HOSP_01PAC_04imagen_H_quillotaatenciones_por_hora_y_triage.png',\n",
       " './resultados/02Hospitales/2HOSP_01PAC_01imagen_H_quintero.png',\n",
       " './resultados/02Hospitales/2HOSP_01PAC_04imagen_H_quillotacumplimiento_atencion_tiempos.png',\n",
       " './resultados/02Hospitales/2HOSP_01PAC_04texto_H_limache.txt',\n",
       " './resultados/02Hospitales/2HOSP_01PAC_01texto_H_quillota.txt',\n",
       " './resultados/02Hospitales/2HOSP_01PAC_01imagen_H_cabildo.png',\n",
       " './resultados/02Hospitales/2HOSP_01PAC_04texto_H_petorca.txt',\n",
       " './resultados/02Hospitales/2HOSP_01PAC_04imagen_H_calera.png',\n",
       " './resultados/02Hospitales/2HOSP_01PAC_04imagen_H_quinteroatenciones_por_hora_y_triage.png',\n",
       " './resultados/02Hospitales/2HOSP_01PAC_04texto_H_penablanca.txt',\n",
       " './resultados/02Hospitales/2HOSP_01PAC_01texto_H_petorca.txt',\n",
       " './resultados/02Hospitales/2HOSP_01PAC_02texto_H_quillota.txt',\n",
       " './resultados/02Hospitales/2HOSP_01PAC_04imagen_H_limachecumplimiento_atencion_tiempos.png',\n",
       " './resultados/02Hospitales/2HOSP_01PAC_04imagen_H_liguacumplimiento_atencion_tiempos.png',\n",
       " './resultados/02Hospitales/2HOSP_01PAC_04imagen_H_limachecajas_y_bigotes_tiempos.png',\n",
       " './resultados/02Hospitales/2HOSP_01PAC_04imagen_H_cabildocajas_y_bigotes_tiempos.png',\n",
       " './resultados/02Hospitales/2HOSP_01PAC_03texto_H_cabildo.txt',\n",
       " './resultados/02Hospitales/2HOSP_01PAC_01ima_caption_H_quintero.caption',\n",
       " './resultados/02Hospitales/2HOSP_01PAC_04imagen_H_quillotacajas_y_bigotes_tiempos.png',\n",
       " './resultados/02Hospitales/2HOSP_01PAC_04imagen_H_liguaatenciones_por_hora_y_triage.png',\n",
       " './resultados/02Hospitales/2HOSP_01PAC_03texto_H_penablanca.txt',\n",
       " './resultados/02Hospitales/2HOSP_01PAC_04imagen_H_petorcacajas_y_bigotes_tiempos.png',\n",
       " './resultados/02Hospitales/2HOSP_01PAC_01texto_H_calera.txt',\n",
       " './resultados/02Hospitales/2HOSP_01PAC_04imagen_H_quilpuecumplimiento_atencion_tiempos.png',\n",
       " './resultados/02Hospitales/2HOSP_01PAC_02texto_H_quintero.txt',\n",
       " './resultados/01SS/1SS_01PAC_01imagenatenxhora.png',\n",
       " './resultados/01SS/1SS_01PAC_01imagen_H_quillota.png',\n",
       " './resultados/01SS/1SS_01PAC_01texto.txt',\n",
       " './resultados/01SS/1SS_01PAC_01imagen_H_calera.png',\n",
       " './resultados/01SS/1SS_01PAC_01imagenatenxsemana.png',\n",
       " './resultados/01SS/1SS_01PAC_01imagen_H_quintero.png',\n",
       " './resultados/01SS/1SS_01PAC_01imagen_H_quilpue.png',\n",
       " './resultados/01SS/1SS_01PAC_01imagen_H_cabildo.png',\n",
       " './resultados/01SS/1SS_01PAC_01imagen_H_ligua.png',\n",
       " './resultados/01SS/1SS_01PAC_01imagen_H_petorca.png',\n",
       " './resultados/01SS/1SS_01PAC_01imagen_H_limache.png',\n",
       " './resultados/01SS/1SS_01PAC_01imagenatensemanal.png',\n",
       " './resultados/01SS/1SS_01PAC_01imagen_HGF.png',\n",
       " './resultados/01SS/1SS_01PAC_01imagenatenxtriagexmes.png',\n",
       " './resultados/01SS/1SS_01PAC_01imagen_H_penablanca.png',\n",
       " './resultados/.ipynb_checkpoints/Precompilador de texto-checkpoint.ipynb',\n",
       " './resultados/compilado_final/01SS.final',\n",
       " './resultados/compilado_final/Hospitales1.final',\n",
       " './resultados/compilado/02Hospitales02_H_cabildo.compilado',\n",
       " './resultados/compilado/02Hospitales02_H_calera.compilado',\n",
       " './resultados/compilado/02Hospitales02_HGF.compilado',\n",
       " './resultados/compilado/02Hospitales02_H_penablanca.compilado',\n",
       " './resultados/compilado/02Hospitales_H_limache.compilado',\n",
       " './resultados/compilado/02Hospitales_H_quintero.compilado',\n",
       " './resultados/compilado/02Hospitales02_H_quillota.compilado',\n",
       " './resultados/compilado/02Hospitales02_H_limache.compilado',\n",
       " './resultados/compilado/02Hospitales_H_cabildo.compilado',\n",
       " './resultados/compilado/02Hospitales_H_ligua.compilado',\n",
       " './resultados/compilado/02Hospitales02_H_petorca.compilado',\n",
       " './resultados/compilado/01.tx',\n",
       " './resultados/compilado/02Hospitales_H_penablanca.compilado',\n",
       " './resultados/compilado/02Hospitales_H_petorca.compilado',\n",
       " './resultados/compilado/02Hospitales02_H_quintero.compilado',\n",
       " './resultados/compilado/02Hospitales_H_quillota.compilado',\n",
       " './resultados/compilado/01SS.compilado',\n",
       " './resultados/compilado/02Hospitales_H_calera.compilado',\n",
       " './resultados/compilado/02Hospitales_HGF.compilado',\n",
       " './resultados/compilado/02Hospitales02_H_quilpue.compilado',\n",
       " './resultados/compilado/02Hospitales02_H_ligua.compilado',\n",
       " './resultados/compilado/02Hospitales_H_quilpue.compilado']"
      ]
     },
     "execution_count": 2,
     "metadata": {},
     "output_type": "execute_result"
    }
   ],
   "source": [
    "lista_archivos = []\n",
    "for dirname, dirnames, filenames in os.walk('./resultados/'):\n",
    "    for filename in filenames:\n",
    "        lista_archivos.append(os.path.join(dirname, filename))\n",
    "archivos = lista_archivos\n",
    "archivos\n"
   ]
  },
  {
   "cell_type": "code",
   "execution_count": 3,
   "metadata": {
    "collapsed": true
   },
   "outputs": [],
   "source": [
    "def cargar_asignar_leer(direccion):\n",
    "    var = open(direccion,'r')\n",
    "    return var.read()"
   ]
  },
  {
   "cell_type": "markdown",
   "metadata": {},
   "source": [
    "# Requisitos"
   ]
  },
  {
   "cell_type": "code",
   "execution_count": 4,
   "metadata": {},
   "outputs": [
    {
     "data": {
      "text/plain": [
       "['HGF',\n",
       " 'H_quillota',\n",
       " 'H_quilpue',\n",
       " 'H_quintero',\n",
       " 'H_calera',\n",
       " 'H_limache',\n",
       " 'H_ligua',\n",
       " 'H_penablanca',\n",
       " 'H_cabildo',\n",
       " 'H_petorca']"
      ]
     },
     "execution_count": 4,
     "metadata": {},
     "output_type": "execute_result"
    }
   ],
   "source": [
    "hospitales = ['HGF', 'H_quillota', 'H_quilpue', 'H_quintero',\n",
    "              'H_calera', 'H_limache', 'H_ligua', 'H_penablanca',\n",
    "              'H_cabildo', 'H_petorca']\n",
    "hospitales"
   ]
  },
  {
   "cell_type": "code",
   "execution_count": 5,
   "metadata": {
    "collapsed": true
   },
   "outputs": [],
   "source": [
    "infohospitales = {'HGF': {'Complejidad': 'Alta',\n",
    "  'Comunas': ['VIÑA DEL MAR', 'CONCÓN'],\n",
    "  'Nombre': 'Hospital de Viña',\n",
    "  'Nombre Sidra': 'Hospital Dr Gustavo Fricke (Viña del Mar)',\n",
    "  'Poblacion': 376400.0,\n",
    "  'codigo hospital': 'HGF'},\n",
    " 'H_cabildo': {'Complejidad': 'Baja',\n",
    "  'Comunas': 'CABILDO',\n",
    "  'Nombre': 'Hospital de Cabildo',\n",
    "  'Nombre Sidra': 'Hospital Dr Víctor Hugo Moll (Cabildo)',\n",
    "  'Poblacion': 19388.0,\n",
    "  'codigo hospital': 'H_cabildo'},\n",
    " 'H_calera': {'Complejidad': 'Baja',\n",
    "  'Comunas': ['CALERA', 'NOGALES', 'HIJUELAS'],\n",
    "  'Nombre': 'Hospital de Calera',\n",
    "  'Nombre Sidra': 'Hospital Dr Mario Sánchez Vergara (La Calera)',\n",
    "  'Poblacion': 90662.0,\n",
    "  'codigo hospital': 'H_calera'},\n",
    " 'H_ligua': {'Complejidad': 'Media',\n",
    "  'Comunas': ['LA LIGUA', 'PAPUDO', 'ZAPALLAR'],\n",
    "  'Nombre': 'Hospital de La Ligua',\n",
    "  'Nombre Sidra': 'Hospital San Agustín (La Ligua)',\n",
    "  'Poblacion': 49085.0,\n",
    "  'codigo hospital': 'H_ligua'},\n",
    " 'H_limache': {'Complejidad': 'Media',\n",
    "  'Comunas': ['LIMACHE', 'OLMUÉ'],\n",
    "  'Nombre': 'Hospital de Limache',\n",
    "  'Nombre Sidra': 'Hospital Santo Tomás (Limache)',\n",
    "  'Poblacion': 63637.0,\n",
    "  'codigo hospital': 'H_limache'},\n",
    " 'H_penablanca': {'Complejidad': 'Media',\n",
    "  'Comunas': 'VILLA ALEMANA',\n",
    "  'Nombre': 'Hospital de Villa Alemana',\n",
    "  'Nombre Sidra': 'Hospital Juana Ross de Edwards (Peñablanca, Villa Alemana)',\n",
    "  'Poblacion': 126548.0,\n",
    "  'codigo hospital': 'H_penablanca'},\n",
    " 'H_petorca': {'Complejidad': 'Baja',\n",
    "  'Comunas': 'PETORCA',\n",
    "  'Nombre': 'Hospital de Petorca',\n",
    "  'Nombre Sidra': 'Hospital de Petorca',\n",
    "  'Poblacion': 9826.0,\n",
    "  'codigo hospital': 'H_petorca'},\n",
    " 'H_quillota': {'Complejidad': 'Alta',\n",
    "  'Comunas': ['QUILLOTA', 'LA CRUZ'],\n",
    "  'Nombre': 'Hospital de Quillota',\n",
    "  'Nombre Sidra': 'Hospital San Martín (Quillota)',\n",
    "  'Poblacion': 112615.0,\n",
    "  'codigo hospital': 'H_quillota'},\n",
    " 'H_quilpue': {'Complejidad': 'Alta',\n",
    "  'Comunas': 'QUILPUÉ',\n",
    "  'Nombre': 'Hospital de Quilpué',\n",
    "  'Nombre Sidra': 'Hospital de Quilpué',\n",
    "  'Poblacion': 151708.0,\n",
    "  'codigo hospital': 'H_quilpue'},\n",
    " 'H_quintero': {'Complejidad': 'Media',\n",
    "  'Comunas': ['PUCHUNCAVÍ', 'QUINTERO'],\n",
    "  'Nombre': 'Hospital de Quintero',\n",
    "  'Nombre Sidra': 'Hospital Adriana Cousiño (Quintero)',\n",
    "  'Poblacion': 50469.0,\n",
    "  'codigo hospital': 'H_quintero'}}"
   ]
  },
  {
   "cell_type": "code",
   "execution_count": null,
   "metadata": {
    "collapsed": true
   },
   "outputs": [],
   "source": []
  },
  {
   "cell_type": "code",
   "execution_count": null,
   "metadata": {
    "collapsed": true
   },
   "outputs": [],
   "source": []
  },
  {
   "cell_type": "code",
   "execution_count": null,
   "metadata": {
    "collapsed": true
   },
   "outputs": [],
   "source": []
  },
  {
   "cell_type": "markdown",
   "metadata": {},
   "source": [
    "# Cominzo a crear el texto"
   ]
  },
  {
   "cell_type": "code",
   "execution_count": null,
   "metadata": {
    "collapsed": true,
    "scrolled": false
   },
   "outputs": [],
   "source": []
  },
  {
   "cell_type": "code",
   "execution_count": null,
   "metadata": {
    "collapsed": true
   },
   "outputs": [],
   "source": []
  },
  {
   "cell_type": "code",
   "execution_count": null,
   "metadata": {
    "collapsed": true
   },
   "outputs": [],
   "source": []
  },
  {
   "cell_type": "code",
   "execution_count": 6,
   "metadata": {},
   "outputs": [
    {
     "data": {
      "text/plain": [
       "'./resultados/compilado/01SS.compilado'"
      ]
     },
     "execution_count": 6,
     "metadata": {},
     "output_type": "execute_result"
    }
   ],
   "source": [
    "####### ARCHIVOS A LEER\n",
    "ruta                 = './resultados/01SS/'\n",
    "\n",
    "texto1                = '1SS_01PAC_01texto'\n",
    "imagen1               = '2HOSP_01PAC_01imagen'\n",
    "caption1              = '2HOSP_01PAC_01ima_caption'\n",
    "texto2                = '2HOSP_01PAC_02texto'\n",
    "\n",
    "\n",
    "###### COMO GUARDAR EL ARCHIVO\n",
    "guarda_ruta                   =  './resultados/compilado/'\n",
    "guarda_archivo                =  '01SS'\n",
    "\n",
    "###### Función\n",
    "exportar = guarda_ruta+ guarda_archivo + '.compilado'\n",
    "#print(exportar)\n",
    "print(' ', file=open(str(exportar), 'w'))\n",
    "\n",
    "## Texto\n",
    "gen_tex                      = texto1       #colocar el archivo acá\n",
    "tex                          = open(str(ruta+gen_tex+'.txt'),\n",
    "                                    'r').read().replace('%', '\\%' ).replace('\\\\\\%', '\\%' )\n",
    "print(tex, '\\n', file=open(str(exportar), 'a'))\n",
    "exportar\n",
    "\n",
    "\n",
    "\n"
   ]
  },
  {
   "cell_type": "code",
   "execution_count": null,
   "metadata": {
    "collapsed": true
   },
   "outputs": [],
   "source": []
  },
  {
   "cell_type": "code",
   "execution_count": null,
   "metadata": {
    "collapsed": true
   },
   "outputs": [],
   "source": []
  },
  {
   "cell_type": "code",
   "execution_count": null,
   "metadata": {
    "collapsed": true
   },
   "outputs": [],
   "source": []
  },
  {
   "cell_type": "markdown",
   "metadata": {
    "collapsed": true
   },
   "source": [
    "# Hospitales"
   ]
  },
  {
   "cell_type": "markdown",
   "metadata": {},
   "source": [
    "Compilador de la sección hospitales....."
   ]
  },
  {
   "cell_type": "code",
   "execution_count": 7,
   "metadata": {},
   "outputs": [
    {
     "name": "stdout",
     "output_type": "stream",
     "text": [
      "HGF\n",
      "H_quillota\n",
      "H_quilpue\n",
      "H_quintero\n",
      "H_calera\n",
      "H_limache\n",
      "H_ligua\n",
      "H_penablanca\n",
      "H_cabildo\n",
      "H_petorca\n"
     ]
    }
   ],
   "source": [
    "for hosp in hospitales:\n",
    "    print(hosp)"
   ]
  },
  {
   "cell_type": "code",
   "execution_count": null,
   "metadata": {
    "collapsed": true
   },
   "outputs": [],
   "source": []
  },
  {
   "cell_type": "code",
   "execution_count": null,
   "metadata": {
    "collapsed": true
   },
   "outputs": [],
   "source": []
  },
  {
   "cell_type": "code",
   "execution_count": null,
   "metadata": {
    "collapsed": true
   },
   "outputs": [],
   "source": []
  },
  {
   "cell_type": "code",
   "execution_count": 8,
   "metadata": {},
   "outputs": [
    {
     "name": "stdout",
     "output_type": "stream",
     "text": [
      "./resultados/compilado/02Hospitales_HGF.compilado\n",
      "HGF.compilado\n",
      "./resultados/compilado/02Hospitales_H_quillota.compilado\n",
      "H_quillota.compilado\n",
      "./resultados/compilado/02Hospitales_H_quilpue.compilado\n",
      "H_quilpue.compilado\n",
      "./resultados/compilado/02Hospitales_H_quintero.compilado\n",
      "H_quintero.compilado\n",
      "./resultados/compilado/02Hospitales_H_calera.compilado\n",
      "H_calera.compilado\n",
      "./resultados/compilado/02Hospitales_H_limache.compilado\n",
      "H_limache.compilado\n",
      "./resultados/compilado/02Hospitales_H_ligua.compilado\n",
      "H_ligua.compilado\n",
      "./resultados/compilado/02Hospitales_H_penablanca.compilado\n",
      "H_penablanca.compilado\n",
      "./resultados/compilado/02Hospitales_H_cabildo.compilado\n",
      "H_cabildo.compilado\n",
      "./resultados/compilado/02Hospitales_H_petorca.compilado\n",
      "H_petorca.compilado\n"
     ]
    }
   ],
   "source": [
    "####### ARCHIVOS A LEER\n",
    "ruta                 = './resultados/02Hospitales/'\n",
    "\n",
    "texto1                = '2HOSP_01PAC_01texto'\n",
    "imagen1               = '2HOSP_01PAC_01imagen'\n",
    "caption1              = '2HOSP_01PAC_01ima_caption'\n",
    "texto2                = '2HOSP_01PAC_02texto'\n",
    "texto3                = '2HOSP_01PAC_03texto'\n",
    "texto4                = '2HOSP_01PAC_04texto'\n",
    "imagen2               = '2HOSP_01PAC_04imagen'\n",
    "caption2              = '2HOSP_01PAC_04ima_caption'\n",
    "\n",
    "###### COMO GUARDAR EL ARCHIVO\n",
    "guarda_ruta                   =  './resultados/compilado/'\n",
    "guarda_archivo                =  '02Hospitales'\n",
    "\n",
    "###### Función\n",
    "for hosp in hospitales:\n",
    "    exportar = guarda_ruta+ guarda_archivo +'_'+hosp+'.compilado'\n",
    "    print(exportar)\n",
    "    print(' ', file=open(str(exportar), 'w'))\n",
    "    print(str(hosp+'.compilado'))\n",
    "\n",
    "    ## Texto\n",
    "    gen_tex                      = texto1       #colocar el archivo acá\n",
    "    tex                          = open(str(ruta+gen_tex+'_'+ hosp +'.txt'),\n",
    "                                        'r').read().replace('%', '\\%' ).replace('\\\\\\%', '\\%' )\n",
    "    \n",
    "    print(tex, '\\n', file=open(str(exportar), 'a'))\n",
    "\n",
    "    ## Imagen\n",
    "    gen_ima                      =  imagen1\n",
    "    gen_caption                  =  caption1\n",
    "    imagen    = str(\n",
    "                    '\\\\begin{figure}[H] \\n \\\n",
    "                    \\centering \\n \\\n",
    "                    \\includegraphics[scale=0.55]{' + str('.' + ruta+gen_ima+'_'+ hosp +'.png') + '} \\n \\\n",
    "                    \\caption{' + open(str(ruta+gen_caption+'_'+ hosp +'.caption'), 'r').read()[:-1] +  '} \\n \\\n",
    "                    \\label{etiqueta_por_definir} \\n \\\n",
    "                    \\end{figure}')\n",
    "    print(imagen, '\\n', file=open(str(exportar), 'a'))\n",
    "\n",
    "    ## Texto\n",
    "    gen_tex                      = texto2       #colocar el archivo acá\n",
    "    tex                          = open(str(ruta+gen_tex+'_'+ hosp +'.txt'), \n",
    "                                        'r').read().replace('%', '\\%' ).replace('\\\\\\%', '\\%' )\n",
    "    print(tex, '\\n', file=open(str(exportar), 'a'))\n",
    "    \n",
    "    ## Texto\n",
    "    gen_tex                      = texto3       #colocar el archivo acá\n",
    "    tex                          = open(str(ruta+gen_tex+'_'+ hosp +'.txt'), \n",
    "                                        'r').read().replace('%', '\\%' ).replace('\\\\\\%', '\\%' )\n",
    "    print(tex, '\\n', file=open(str(exportar), 'a'))\n",
    "    \n",
    "    ## Texto\n",
    "    gen_tex                      = texto4       #colocar el archivo acá\n",
    "    tex                          = open(str(ruta+gen_tex+'_'+ hosp +'.txt'), \n",
    "                                        'r').read().replace('%', '\\%' ).replace('\\\\\\%', '\\%' )\n",
    "    print(tex, '\\n', file=open(str(exportar), 'a'))\n",
    "    \n",
    "\n"
   ]
  },
  {
   "cell_type": "code",
   "execution_count": 9,
   "metadata": {},
   "outputs": [
    {
     "name": "stdout",
     "output_type": "stream",
     "text": [
      "./resultados/compilado/02Hospitales02_HGF.compilado\n",
      "HGF.compilado\n",
      "./resultados/compilado/02Hospitales02_H_quillota.compilado\n",
      "H_quillota.compilado\n",
      "./resultados/compilado/02Hospitales02_H_quilpue.compilado\n",
      "H_quilpue.compilado\n",
      "./resultados/compilado/02Hospitales02_H_quintero.compilado\n",
      "H_quintero.compilado\n",
      "./resultados/compilado/02Hospitales02_H_calera.compilado\n",
      "H_calera.compilado\n",
      "./resultados/compilado/02Hospitales02_H_limache.compilado\n",
      "H_limache.compilado\n",
      "./resultados/compilado/02Hospitales02_H_ligua.compilado\n",
      "H_ligua.compilado\n",
      "./resultados/compilado/02Hospitales02_H_penablanca.compilado\n",
      "H_penablanca.compilado\n",
      "./resultados/compilado/02Hospitales02_H_cabildo.compilado\n",
      "H_cabildo.compilado\n",
      "./resultados/compilado/02Hospitales02_H_petorca.compilado\n",
      "H_petorca.compilado\n"
     ]
    }
   ],
   "source": [
    "####### ARCHIVOS A LEER\n",
    "ruta                 = './resultados/02Hospitales/'\n",
    "\n",
    "texto1                = '2HOSP_01PAC_01texto'\n",
    "imagen1               = '2HOSP_01PAC_01imagen'\n",
    "caption1              = '2HOSP_01PAC_01ima_caption'\n",
    "texto2                = '2HOSP_01PAC_02texto'\n",
    "texto3                = '2HOSP_01PAC_03texto'\n",
    "texto4                = '2HOSP_01PAC_04texto'\n",
    "imagen2               = '2HOSP_01PAC_04imagen'\n",
    "caption2              = '2HOSP_01PAC_04ima_caption'\n",
    "\n",
    "###### COMO GUARDAR EL ARCHIVO\n",
    "guarda_ruta                   =  './resultados/compilado/'\n",
    "guarda_archivo                =  '02Hospitales02'\n",
    "\n",
    "###### Función\n",
    "for hosp in hospitales:\n",
    "    exportar = guarda_ruta+ guarda_archivo +'_'+hosp+'.compilado'\n",
    "    print(exportar)\n",
    "    print(' ', file=open(str(exportar), 'w'))\n",
    "    print(str(hosp+'.compilado'))\n",
    "\n"
   ]
  },
  {
   "cell_type": "markdown",
   "metadata": {
    "collapsed": true
   },
   "source": [
    "# Compilador completo sección **hospital**"
   ]
  },
  {
   "cell_type": "code",
   "execution_count": 10,
   "metadata": {
    "collapsed": true,
    "scrolled": true
   },
   "outputs": [],
   "source": [
    "lista_archivos = []\n",
    "for dirname, dirnames, filenames in os.walk('./resultados/consolidado/'):\n",
    "    for filename in filenames:\n",
    "        lista_archivos.append(os.path.join(dirname, filename))\n",
    "archivos = lista_archivos\n",
    "#archivos\n"
   ]
  },
  {
   "cell_type": "code",
   "execution_count": 11,
   "metadata": {},
   "outputs": [
    {
     "data": {
      "text/plain": [
       "'./resultados/compilado_final/01SS.final'"
      ]
     },
     "execution_count": 11,
     "metadata": {},
     "output_type": "execute_result"
    }
   ],
   "source": [
    "####### ARCHIVOS A LEER\n",
    "ruta                 = './resultados/01SS/'\n",
    "\n",
    "texto1                = '1SS_01PAC_01texto'\n",
    "imagen1               = '2HOSP_01PAC_01imagen'\n",
    "caption1              = '2HOSP_01PAC_01ima_caption'\n",
    "texto2                = '2HOSP_01PAC_02texto'\n",
    "\n",
    "\n",
    "###### COMO GUARDAR EL ARCHIVO\n",
    "guarda_ruta                   =  './resultados/compilado_final/'\n",
    "guarda_archivo                =  '01SS'\n",
    "\n",
    "###### Función\n",
    "exportar = guarda_ruta+ guarda_archivo + '.final'\n",
    "#print(exportar)\n",
    "print(' ', file=open(str(exportar), 'w'))\n",
    "\n",
    "## Texto\n",
    "gen_tex                      = texto1       #colocar el archivo acá\n",
    "tex                          = open(str(ruta+gen_tex+'.txt'),\n",
    "                                    'r').read().replace('%', '\\%' ).replace('\\\\\\%', '\\%' )\n",
    "print(tex, '\\n', file=open(str(exportar), 'a'))\n",
    "exportar\n",
    "\n",
    "\n"
   ]
  },
  {
   "cell_type": "code",
   "execution_count": 12,
   "metadata": {},
   "outputs": [
    {
     "name": "stdout",
     "output_type": "stream",
     "text": [
      "./resultados/compilado_final/Hospitales1.final\n",
      "./resultados/compilado_final/Hospitales1.final\n",
      "./resultados/compilado_final/Hospitales1.final\n",
      "./resultados/compilado_final/Hospitales1.final\n",
      "./resultados/compilado_final/Hospitales1.final\n",
      "./resultados/compilado_final/Hospitales1.final\n",
      "./resultados/compilado_final/Hospitales1.final\n",
      "./resultados/compilado_final/Hospitales1.final\n",
      "./resultados/compilado_final/Hospitales1.final\n",
      "./resultados/compilado_final/Hospitales1.final\n"
     ]
    }
   ],
   "source": [
    "#archivos a leer qe luego se vuelven \n",
    "\n",
    "archivo_a_leer        = './resultados/compilado/02Hospitales'\n",
    "archivo_a_guardar     = './resultados/compilado_final/Hospitales1'\n",
    "archivo_a_leer2       = './resultados/compilado/02Hospitales02'\n",
    "\n",
    "\n",
    "print( '', file= open(str(archivo_a_guardar+'.final')\n",
    "                          , 'w'))\n",
    "\n",
    "exportar = archivo_a_guardar + '.final'\n",
    "\n",
    "for hosp in hospitales:\n",
    "    print(' ', file=open(str(exportar), 'w'))\n",
    "\n",
    "for hosp in hospitales:\n",
    "    print(exportar)\n",
    "        \n",
    "    texto           = str('\\subsubsection{' +infohospitales[hosp]['Nombre'] +'} \\n')\n",
    "    print(texto, '\\n', file=open(str(exportar), 'a')) \n",
    "    \n",
    "    leer            = archivo_a_leer          # cambiar aquí\n",
    "    texto           = open( str(leer+ '_' +hosp+'.compilado')).read()\n",
    "    print(texto, '\\n', file=open(str(exportar), 'a'))\n"
   ]
  },
  {
   "cell_type": "code",
   "execution_count": null,
   "metadata": {},
   "outputs": [],
   "source": []
  },
  {
   "cell_type": "code",
   "execution_count": null,
   "metadata": {
    "collapsed": true
   },
   "outputs": [],
   "source": []
  },
  {
   "cell_type": "code",
   "execution_count": null,
   "metadata": {
    "collapsed": true
   },
   "outputs": [],
   "source": []
  },
  {
   "cell_type": "code",
   "execution_count": null,
   "metadata": {
    "collapsed": true
   },
   "outputs": [],
   "source": []
  },
  {
   "cell_type": "code",
   "execution_count": null,
   "metadata": {
    "collapsed": true
   },
   "outputs": [],
   "source": []
  },
  {
   "cell_type": "code",
   "execution_count": null,
   "metadata": {
    "collapsed": true
   },
   "outputs": [],
   "source": []
  },
  {
   "cell_type": "code",
   "execution_count": null,
   "metadata": {
    "collapsed": true
   },
   "outputs": [],
   "source": []
  },
  {
   "cell_type": "code",
   "execution_count": null,
   "metadata": {
    "collapsed": true
   },
   "outputs": [],
   "source": []
  },
  {
   "cell_type": "code",
   "execution_count": null,
   "metadata": {
    "collapsed": true
   },
   "outputs": [],
   "source": []
  },
  {
   "cell_type": "code",
   "execution_count": null,
   "metadata": {
    "collapsed": true
   },
   "outputs": [],
   "source": []
  },
  {
   "cell_type": "code",
   "execution_count": null,
   "metadata": {
    "collapsed": true
   },
   "outputs": [],
   "source": []
  },
  {
   "cell_type": "code",
   "execution_count": null,
   "metadata": {
    "collapsed": true
   },
   "outputs": [],
   "source": []
  },
  {
   "cell_type": "code",
   "execution_count": null,
   "metadata": {
    "collapsed": true
   },
   "outputs": [],
   "source": []
  }
 ],
 "metadata": {
  "kernelspec": {
   "display_name": "Python 3",
   "language": "python",
   "name": "python3"
  },
  "language_info": {
   "codemirror_mode": {
    "name": "ipython",
    "version": 3
   },
   "file_extension": ".py",
   "mimetype": "text/x-python",
   "name": "python",
   "nbconvert_exporter": "python",
   "pygments_lexer": "ipython3",
   "version": "3.6.3"
  }
 },
 "nbformat": 4,
 "nbformat_minor": 2
}
