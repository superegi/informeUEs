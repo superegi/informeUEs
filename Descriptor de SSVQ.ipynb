{
 "cells": [
  {
   "cell_type": "markdown",
   "metadata": {},
   "source": [
    "# Objetivo del archivo"
   ]
  },
  {
   "cell_type": "markdown",
   "metadata": {},
   "source": [
    "realizaré descripción de datos, y lo que me parezca importante lo iré tirando a archivos de texto que luego iré a buscar....."
   ]
  },
  {
   "cell_type": "markdown",
   "metadata": {},
   "source": [
    "# Importación librerías y recursos externos"
   ]
  },
  {
   "cell_type": "code",
   "execution_count": 1,
   "metadata": {},
   "outputs": [
    {
     "name": "stderr",
     "output_type": "stream",
     "text": [
      "/home/egidio/anaconda3/lib/python3.6/site-packages/statsmodels/compat/pandas.py:56: FutureWarning: The pandas.core.datetools module is deprecated and will be removed in a future version. Please use the pandas.tseries module instead.\n",
      "  from pandas.core import datetools\n"
     ]
    }
   ],
   "source": [
    "import pandas as pd\n",
    "import numpy as np\n",
    "import matplotlib.pyplot as plt\n",
    "import scipy \n",
    "from scipy import stats\n",
    "import statsmodels.api as sm\n",
    "from statsmodels.formula.api import ols\n",
    "import datetime as dt\n",
    "import datetime\n",
    "from datetime import timedelta  \n",
    "import timeboard as tb # turnos \n",
    "\n",
    "# para tratar de poner espanol\n",
    "from datetime import date, datetime, time\n",
    "from babel.dates import format_date, format_datetime, format_time, format_timedelta, Locale\n",
    "import locale                                    # para tratar de poner espanol\n",
    "#locale = Locale('es', 'CL')\n",
    "locale.setlocale(locale.LC_ALL,'es_ES.UTF-8')  \n",
    "\n",
    "import os\n",
    "import runpy\n",
    "from pyexcel_ods import get_data\n",
    "from matplotlib_venn import venn3\n",
    "from matplotlib_venn import venn2, venn2_circles\n",
    "import math\n",
    "\n",
    "from IPython.core.interactiveshell import InteractiveShell\n",
    "InteractiveShell.ast_node_interactivity = \"all\"\n",
    "%matplotlib inline\n",
    "\n",
    "\n",
    "#otro graficador\n",
    "import seaborn as sns\n",
    "\n",
    "#stats\n",
    "\n",
    "from sklearn.linear_model import LogisticRegression\n",
    "from sklearn import metrics\n",
    "from sklearn.model_selection import train_test_split\n",
    "from sklearn import model_selection\n",
    "from sklearn.model_selection import cross_val_score\n",
    "from sklearn.metrics import confusion_matrix\n",
    "from sklearn.metrics import classification_report"
   ]
  },
  {
   "cell_type": "markdown",
   "metadata": {
    "collapsed": true
   },
   "source": [
    "# importar funciones locales"
   ]
  },
  {
   "cell_type": "code",
   "execution_count": 2,
   "metadata": {},
   "outputs": [
    {
     "data": {
      "text/plain": [
       "['/home/egidio/Dropbox/Compucosas/programas py/lector_ODF.py',\n",
       " '/home/egidio/Dropbox/Compucosas/programas py/como importar',\n",
       " '/home/egidio/Dropbox/Compucosas/programas py/descripcion_univariada.py',\n",
       " '/home/egidio/Dropbox/Compucosas/programas py/características_operativas_de_test.py',\n",
       " '/home/egidio/Dropbox/Compucosas/programas py/percentiles.py',\n",
       " '/home/egidio/Dropbox/Compucosas/programas py/tabala_frecuencias.py',\n",
       " '/home/egidio/Dropbox/Compucosas/programas py/__pycache__/percentiles.cpython-36.pyc',\n",
       " '/home/egidio/Dropbox/Compucosas/programas py/__pycache__/lector_ODF.cpython-36.pyc',\n",
       " '/home/egidio/Dropbox/Compucosas/programas py/__pycache__/descripcion_univariada.cpython-36.pyc',\n",
       " '/home/egidio/Dropbox/Compucosas/programas py/__pycache__/características_operativas_de_test.cpython-36.pyc',\n",
       " '/home/egidio/Dropbox/Compucosas/programas py/__pycache__/tabala_frecuencias.cpython-36.pyc',\n",
       " '/home/egidio/Dropbox/Compucosas/programas py/__pycache__/funciones_locales.cpython-36.pyc']"
      ]
     },
     "execution_count": 2,
     "metadata": {},
     "output_type": "execute_result"
    }
   ],
   "source": [
    "#listo los archivos\n",
    "scripts = []\n",
    "for dirname, dirnames, filenames in os.walk('/home/egidio/Dropbox/Compucosas/programas py'):\n",
    "    for filename in filenames:\n",
    "        scripts.append(os.path.join(dirname, filename))\n",
    "\n",
    "scripts\n",
    "\n",
    "# los cargo\n",
    "for script in scripts:\n",
    "    if script[-3:] == '.py':\n",
    "        exec(open(str(script)).read())\n"
   ]
  },
  {
   "cell_type": "markdown",
   "metadata": {},
   "source": [
    "# importo BD "
   ]
  },
  {
   "cell_type": "code",
   "execution_count": 3,
   "metadata": {},
   "outputs": [
    {
     "data": {
      "text/plain": [
       "'/home/egidio/Dropbox/Trabajos científicos/SIDRA/Compiladores Jupyter/Analisis Red ssvq basal'"
      ]
     },
     "execution_count": 3,
     "metadata": {},
     "output_type": "execute_result"
    }
   ],
   "source": [
    "sidra = pd.read_pickle('/home/egidio/Dropbox/Trabajos científicos/SIDRA/BD generadas/Current/sidra.pkl')\n",
    "os.getcwd()\n",
    "#sidra = pd.read_pickle('/home/egidio/Dropbox/Trabajos científicos/SIDRA/BD generadas/BD mar/sidra.pkl')"
   ]
  },
  {
   "cell_type": "code",
   "execution_count": 4,
   "metadata": {
    "collapsed": true
   },
   "outputs": [],
   "source": [
    "poblacion = pd.read_csv('/home/egidio/Dropbox/Trabajos científicos/SIDRA/BD generadas/Current/censo2017_poblacion.csv')"
   ]
  },
  {
   "cell_type": "markdown",
   "metadata": {},
   "source": [
    "algunas generalidades de los que estoy importando"
   ]
  },
  {
   "cell_type": "code",
   "execution_count": 5,
   "metadata": {},
   "outputs": [
    {
     "data": {
      "text/html": [
       "<div>\n",
       "<style scoped>\n",
       "    .dataframe tbody tr th:only-of-type {\n",
       "        vertical-align: middle;\n",
       "    }\n",
       "\n",
       "    .dataframe tbody tr th {\n",
       "        vertical-align: top;\n",
       "    }\n",
       "\n",
       "    .dataframe thead th {\n",
       "        text-align: right;\n",
       "    }\n",
       "</style>\n",
       "<table border=\"1\" class=\"dataframe\">\n",
       "  <thead>\n",
       "    <tr style=\"text-align: right;\">\n",
       "      <th></th>\n",
       "      <th>FID</th>\n",
       "      <th>REGION</th>\n",
       "      <th>PROVINCIA</th>\n",
       "      <th>COMUNA</th>\n",
       "      <th>NOM_REGION</th>\n",
       "      <th>NOM_PROVIN</th>\n",
       "      <th>NOM_COMUNA</th>\n",
       "      <th>TOTAL_VIVI</th>\n",
       "      <th>PARTICULAR</th>\n",
       "      <th>COLECTIVAS</th>\n",
       "      <th>TOTAL_PERS</th>\n",
       "      <th>HOMBRES</th>\n",
       "      <th>MUJERES</th>\n",
       "      <th>DENSIDAD</th>\n",
       "      <th>INDICE_MAS</th>\n",
       "      <th>INDICE_DEP</th>\n",
       "      <th>IND_DEP_JU</th>\n",
       "      <th>IND_DEP_VE</th>\n",
       "      <th>Shape__Area</th>\n",
       "      <th>Shape__Length</th>\n",
       "    </tr>\n",
       "  </thead>\n",
       "  <tbody>\n",
       "    <tr>\n",
       "      <th>0</th>\n",
       "      <td>45</td>\n",
       "      <td>5</td>\n",
       "      <td>51</td>\n",
       "      <td>5101</td>\n",
       "      <td>REGIÓN DE VALPARAÍSO</td>\n",
       "      <td>VALPARAÍSO</td>\n",
       "      <td>VALPARAÍSO</td>\n",
       "      <td>117196</td>\n",
       "      <td>116835</td>\n",
       "      <td>361</td>\n",
       "      <td>296655</td>\n",
       "      <td>144945</td>\n",
       "      <td>151710</td>\n",
       "      <td>935.3</td>\n",
       "      <td>95.5</td>\n",
       "      <td>45.2</td>\n",
       "      <td>25.8</td>\n",
       "      <td>19.4</td>\n",
       "      <td>4.520715e+08</td>\n",
       "      <td>167384.228819</td>\n",
       "    </tr>\n",
       "    <tr>\n",
       "      <th>1</th>\n",
       "      <td>46</td>\n",
       "      <td>5</td>\n",
       "      <td>51</td>\n",
       "      <td>5102</td>\n",
       "      <td>REGIÓN DE VALPARAÍSO</td>\n",
       "      <td>VALPARAÍSO</td>\n",
       "      <td>CASABLANCA</td>\n",
       "      <td>11606</td>\n",
       "      <td>11588</td>\n",
       "      <td>18</td>\n",
       "      <td>26867</td>\n",
       "      <td>13346</td>\n",
       "      <td>13521</td>\n",
       "      <td>28.1</td>\n",
       "      <td>98.7</td>\n",
       "      <td>47.5</td>\n",
       "      <td>29.6</td>\n",
       "      <td>17.9</td>\n",
       "      <td>1.370067e+09</td>\n",
       "      <td>243996.512223</td>\n",
       "    </tr>\n",
       "    <tr>\n",
       "      <th>2</th>\n",
       "      <td>47</td>\n",
       "      <td>5</td>\n",
       "      <td>51</td>\n",
       "      <td>5103</td>\n",
       "      <td>REGIÓN DE VALPARAÍSO</td>\n",
       "      <td>VALPARAÍSO</td>\n",
       "      <td>CONCÓN</td>\n",
       "      <td>20290</td>\n",
       "      <td>20266</td>\n",
       "      <td>24</td>\n",
       "      <td>42152</td>\n",
       "      <td>20321</td>\n",
       "      <td>21831</td>\n",
       "      <td>549.9</td>\n",
       "      <td>93.1</td>\n",
       "      <td>45.1</td>\n",
       "      <td>28.2</td>\n",
       "      <td>16.8</td>\n",
       "      <td>1.091926e+08</td>\n",
       "      <td>57332.818380</td>\n",
       "    </tr>\n",
       "    <tr>\n",
       "      <th>3</th>\n",
       "      <td>48</td>\n",
       "      <td>5</td>\n",
       "      <td>51</td>\n",
       "      <td>5104</td>\n",
       "      <td>REGIÓN DE VALPARAÍSO</td>\n",
       "      <td>VALPARAÍSO</td>\n",
       "      <td>JUAN FERNÁNDEZ</td>\n",
       "      <td>445</td>\n",
       "      <td>438</td>\n",
       "      <td>7</td>\n",
       "      <td>926</td>\n",
       "      <td>499</td>\n",
       "      <td>427</td>\n",
       "      <td>8.7</td>\n",
       "      <td>116.9</td>\n",
       "      <td>41.4</td>\n",
       "      <td>29.2</td>\n",
       "      <td>12.2</td>\n",
       "      <td>1.505324e+08</td>\n",
       "      <td>142974.467386</td>\n",
       "    </tr>\n",
       "    <tr>\n",
       "      <th>4</th>\n",
       "      <td>49</td>\n",
       "      <td>5</td>\n",
       "      <td>51</td>\n",
       "      <td>5105</td>\n",
       "      <td>REGIÓN DE VALPARAÍSO</td>\n",
       "      <td>VALPARAÍSO</td>\n",
       "      <td>PUCHUNCAVÍ</td>\n",
       "      <td>17451</td>\n",
       "      <td>17436</td>\n",
       "      <td>15</td>\n",
       "      <td>18546</td>\n",
       "      <td>9358</td>\n",
       "      <td>9188</td>\n",
       "      <td>61.7</td>\n",
       "      <td>101.9</td>\n",
       "      <td>52.2</td>\n",
       "      <td>30.3</td>\n",
       "      <td>21.9</td>\n",
       "      <td>4.259776e+08</td>\n",
       "      <td>123980.405925</td>\n",
       "    </tr>\n",
       "  </tbody>\n",
       "</table>\n",
       "</div>"
      ],
      "text/plain": [
       "   FID  REGION  PROVINCIA  COMUNA            NOM_REGION  NOM_PROVIN  \\\n",
       "0   45       5         51    5101  REGIÓN DE VALPARAÍSO  VALPARAÍSO   \n",
       "1   46       5         51    5102  REGIÓN DE VALPARAÍSO  VALPARAÍSO   \n",
       "2   47       5         51    5103  REGIÓN DE VALPARAÍSO  VALPARAÍSO   \n",
       "3   48       5         51    5104  REGIÓN DE VALPARAÍSO  VALPARAÍSO   \n",
       "4   49       5         51    5105  REGIÓN DE VALPARAÍSO  VALPARAÍSO   \n",
       "\n",
       "       NOM_COMUNA  TOTAL_VIVI  PARTICULAR  COLECTIVAS  TOTAL_PERS  HOMBRES  \\\n",
       "0      VALPARAÍSO      117196      116835         361      296655   144945   \n",
       "1      CASABLANCA       11606       11588          18       26867    13346   \n",
       "2          CONCÓN       20290       20266          24       42152    20321   \n",
       "3  JUAN FERNÁNDEZ         445         438           7         926      499   \n",
       "4      PUCHUNCAVÍ       17451       17436          15       18546     9358   \n",
       "\n",
       "   MUJERES  DENSIDAD  INDICE_MAS  INDICE_DEP  IND_DEP_JU  IND_DEP_VE  \\\n",
       "0   151710     935.3        95.5        45.2        25.8        19.4   \n",
       "1    13521      28.1        98.7        47.5        29.6        17.9   \n",
       "2    21831     549.9        93.1        45.1        28.2        16.8   \n",
       "3      427       8.7       116.9        41.4        29.2        12.2   \n",
       "4     9188      61.7       101.9        52.2        30.3        21.9   \n",
       "\n",
       "    Shape__Area  Shape__Length  \n",
       "0  4.520715e+08  167384.228819  \n",
       "1  1.370067e+09  243996.512223  \n",
       "2  1.091926e+08   57332.818380  \n",
       "3  1.505324e+08  142974.467386  \n",
       "4  4.259776e+08  123980.405925  "
      ]
     },
     "execution_count": 5,
     "metadata": {},
     "output_type": "execute_result"
    }
   ],
   "source": [
    "poblacion.head()"
   ]
  },
  {
   "cell_type": "code",
   "execution_count": 6,
   "metadata": {
    "scrolled": true
   },
   "outputs": [
    {
     "name": "stdout",
     "output_type": "stream",
     "text": [
      "<class 'pandas.core.frame.DataFrame'>\n",
      "Index: 926302 entries, U0002625295 to U0002724841\n",
      "Data columns (total 48 columns):\n",
      "Establecimiento               926301 non-null object\n",
      "RutPaciente                   911598 non-null object\n",
      "Edad                          926294 non-null float64\n",
      "Sexo_x                        926301 non-null object\n",
      "Comuna                        923211 non-null object\n",
      "Provincia                     856986 non-null object\n",
      "MotivoConsulta                926129 non-null object\n",
      "Prevision                     917490 non-null object\n",
      "Telefono                      851068 non-null object\n",
      "Direccion                     926285 non-null object\n",
      "Nombre                        767515 non-null object\n",
      "Apellido Paterno              767515 non-null object\n",
      "Apellido Materno              757837 non-null object\n",
      "Fecha Nacimiento              767514 non-null object\n",
      "Plan                          759024 non-null object\n",
      "Condición de Urgencia         431975 non-null object\n",
      "ClasificacionConsulta         926301 non-null object\n",
      "TipoAccidente                 522140 non-null object\n",
      "NumeroAtencionesAnteriores    926301 non-null float64\n",
      "DiagnosticoPrincipal          788801 non-null object\n",
      "OtrosDiagnosticos             64740 non-null object\n",
      "LlegadaEn                     926294 non-null object\n",
      "ProcedenciaPaciente           926294 non-null object\n",
      "Origen_paciente               920209 non-null object\n",
      "Arribo_paciente               926076 non-null object\n",
      "LlegadaSAMU                   42983 non-null object\n",
      "Destino_paciente              788873 non-null object\n",
      "AtInterrumpidaPor             156156 non-null object\n",
      "AtendidoPor                   909431 non-null object\n",
      "DestinoAlta                   788873 non-null object\n",
      "CondicionAlCierre             926287 non-null object\n",
      "Pronostico                    788518 non-null object\n",
      "Categorizacion                906379 non-null object\n",
      "AtencionEnfermeria            72971 non-null object\n",
      "Local                         767515 non-null object\n",
      "TS_ingreso                    926301 non-null datetime64[ns]\n",
      "TS_triage                     763919 non-null datetime64[ns]\n",
      "TS_atencion                   765106 non-null datetime64[ns]\n",
      "TS_cierremedico               926265 non-null datetime64[ns]\n",
      "TS_egreso                     767404 non-null datetime64[ns]\n",
      "DT_EsperaCategorizacion       763918 non-null timedelta64[ns]\n",
      "DT_EsperaMD                   761615 non-null timedelta64[ns]\n",
      "DT_AtencionMD                 765084 non-null timedelta64[ns]\n",
      "DT_definicionPAC              926265 non-null timedelta64[ns]\n",
      "DT_Espera_CierreAdm           767383 non-null timedelta64[ns]\n",
      "DT_Total                      767404 non-null timedelta64[ns]\n",
      "Triage                        906379 non-null object\n",
      "Turno                         926302 non-null object\n",
      "dtypes: datetime64[ns](5), float64(2), object(35), timedelta64[ns](6)\n",
      "memory usage: 346.3+ MB\n"
     ]
    }
   ],
   "source": [
    "sidra.info()"
   ]
  },
  {
   "cell_type": "code",
   "execution_count": 7,
   "metadata": {},
   "outputs": [
    {
     "data": {
      "text/plain": [
       "Index(['Establecimiento', 'RutPaciente', 'Edad', 'Sexo_x', 'Comuna',\n",
       "       'Provincia', 'MotivoConsulta', 'Prevision', 'Telefono', 'Direccion',\n",
       "       'Nombre', 'Apellido Paterno', 'Apellido Materno', 'Fecha Nacimiento',\n",
       "       'Plan', 'Condición de Urgencia', 'ClasificacionConsulta',\n",
       "       'TipoAccidente', 'NumeroAtencionesAnteriores', 'DiagnosticoPrincipal',\n",
       "       'OtrosDiagnosticos', 'LlegadaEn', 'ProcedenciaPaciente',\n",
       "       'Origen_paciente', 'Arribo_paciente', 'LlegadaSAMU', 'Destino_paciente',\n",
       "       'AtInterrumpidaPor', 'AtendidoPor', 'DestinoAlta', 'CondicionAlCierre',\n",
       "       'Pronostico', 'Categorizacion', 'AtencionEnfermeria', 'Local',\n",
       "       'TS_ingreso', 'TS_triage', 'TS_atencion', 'TS_cierremedico',\n",
       "       'TS_egreso', 'DT_EsperaCategorizacion', 'DT_EsperaMD', 'DT_AtencionMD',\n",
       "       'DT_definicionPAC', 'DT_Espera_CierreAdm', 'DT_Total', 'Triage',\n",
       "       'Turno'],\n",
       "      dtype='object')"
      ]
     },
     "execution_count": 7,
     "metadata": {},
     "output_type": "execute_result"
    }
   ],
   "source": [
    "sidra.columns"
   ]
  },
  {
   "cell_type": "markdown",
   "metadata": {},
   "source": [
    "# preparo BD para su posterior análisis"
   ]
  },
  {
   "cell_type": "markdown",
   "metadata": {},
   "source": [
    "Preparo las condicionantes para dejar las BD por cada centro, intervalos de fechas y depurados los errores administrativos..."
   ]
  },
  {
   "cell_type": "markdown",
   "metadata": {},
   "source": [
    "### por intervalo fecha"
   ]
  },
  {
   "cell_type": "code",
   "execution_count": 8,
   "metadata": {
    "collapsed": true
   },
   "outputs": [],
   "source": [
    "inicio = pd.to_datetime('2018-01-01')\n",
    "fin    = pd.to_datetime('2018-12-31') "
   ]
  },
  {
   "cell_type": "markdown",
   "metadata": {},
   "source": [
    "### por error administrativo"
   ]
  },
  {
   "cell_type": "code",
   "execution_count": 9,
   "metadata": {},
   "outputs": [
    {
     "data": {
      "text/plain": [
       "Establecimiento\n",
       "Hospital San Agustín (La Ligua)                                148\n",
       "Hospital de Petorca                                            271\n",
       "Hospital Dr Víctor Hugo Moll (Cabildo)                         275\n",
       "Hospital Juana Ross de Edwards (Peñablanca, Villa Alemana)     306\n",
       "Hospital Santo Tomás (Limache)                                 579\n",
       "Hospital Dr Mario Sánchez Vergara (La Calera)                  822\n",
       "Hospital Adriana Cousiño (Quintero)                           1008\n",
       "Hospital San Martín (Quillota)                                1306\n",
       "Hospital de Quilpué                                           1725\n",
       "Hospital Dr Gustavo Fricke (Viña del Mar)                     6809\n",
       "Name: Turno, dtype: int64"
      ]
     },
     "execution_count": 9,
     "metadata": {},
     "output_type": "execute_result"
    }
   ],
   "source": [
    "sidra.loc[sidra.AtInterrumpidaPor == 'Error Administrativo'].groupby(\n",
    "    ['Establecimiento']).Turno.count().sort_values()"
   ]
  },
  {
   "cell_type": "markdown",
   "metadata": {},
   "source": [
    "### Compilación de restricciones"
   ]
  },
  {
   "cell_type": "markdown",
   "metadata": {},
   "source": [
    "con esta complicación, luego sólo separaré según establecimiento"
   ]
  },
  {
   "cell_type": "code",
   "execution_count": 10,
   "metadata": {
    "collapsed": true
   },
   "outputs": [],
   "source": [
    "BD = sidra.loc[(sidra.TS_ingreso < fin) &\n",
    "                (sidra.TS_ingreso > inicio)      &\n",
    "                (sidra.AtInterrumpidaPor != 'Error Administrativo')].copy()\n"
   ]
  },
  {
   "cell_type": "markdown",
   "metadata": {},
   "source": [
    "### Por Establecimiento"
   ]
  },
  {
   "cell_type": "code",
   "execution_count": 11,
   "metadata": {
    "scrolled": true
   },
   "outputs": [
    {
     "data": {
      "text/plain": [
       "Hospital Dr Gustavo Fricke (Viña del Mar)                     303209\n",
       "Hospital San Martín (Quillota)                                153953\n",
       "Hospital de Quilpué                                           140192\n",
       "Hospital Adriana Cousiño (Quintero)                            67451\n",
       "Hospital Dr Mario Sánchez Vergara (La Calera)                  59701\n",
       "Hospital Santo Tomás (Limache)                                 58236\n",
       "Hospital San Agustín (La Ligua)                                52003\n",
       "Hospital Juana Ross de Edwards (Peñablanca, Villa Alemana)     46123\n",
       "Hospital Dr Víctor Hugo Moll (Cabildo)                         31357\n",
       "Hospital de Petorca                                            14076\n",
       "Name: Establecimiento, dtype: int64"
      ]
     },
     "execution_count": 11,
     "metadata": {},
     "output_type": "execute_result"
    },
    {
     "data": {
      "text/plain": [
       "Hospital Dr Gustavo Fricke (Viña del Mar)                     176603\n",
       "Hospital San Martín (Quillota)                                 93241\n",
       "Hospital de Quilpué                                            83357\n",
       "Hospital Adriana Cousiño (Quintero)                            55908\n",
       "Hospital Dr Mario Sánchez Vergara (La Calera)                  50889\n",
       "Hospital Santo Tomás (Limache)                                 48302\n",
       "Hospital San Agustín (La Ligua)                                45079\n",
       "Hospital Juana Ross de Edwards (Peñablanca, Villa Alemana)     39700\n",
       "Hospital Dr Víctor Hugo Moll (Cabildo)                         27419\n",
       "Hospital de Petorca                                            12083\n",
       "Name: Establecimiento, dtype: int64"
      ]
     },
     "execution_count": 11,
     "metadata": {},
     "output_type": "execute_result"
    }
   ],
   "source": [
    "sidra.Establecimiento.value_counts()\n",
    "BD.Establecimiento.value_counts()"
   ]
  },
  {
   "cell_type": "markdown",
   "metadata": {},
   "source": [
    "Defino una pequeña submuestra de cada uno de los hospitales. Así luego los puedo llamar cuando realice análisis de cada uno de ellos.\n",
    "Desestimo hacer submuestras separadas entre ellas, eso me impedirá hacer intercambio de pacientes o datos entre ellos."
   ]
  },
  {
   "cell_type": "code",
   "execution_count": 12,
   "metadata": {
    "collapsed": true
   },
   "outputs": [],
   "source": [
    "HGF = BD.loc[BD.Establecimiento == 'Hospital Dr Gustavo Fricke (Viña del Mar)']\n",
    "H_quillota = BD.loc[BD.Establecimiento == 'Hospital San Martín (Quillota)']\n",
    "H_quilpue = BD.loc[BD.Establecimiento == 'Hospital de Quilpué']\n",
    "H_quintero = BD.loc[BD.Establecimiento == 'Hospital Adriana Cousiño (Quintero)']\n",
    "H_calera = BD.loc[BD.Establecimiento == 'Hospital Dr Mario Sánchez Vergara (La Calera)']\n",
    "H_limache = BD.loc[BD.Establecimiento == 'Hospital Santo Tomás (Limache)']\n",
    "H_ligua = BD.loc[BD.Establecimiento == 'Hospital San Agustín (La Ligua)']\n",
    "H_penablanca = BD.loc[BD.Establecimiento == 'Hospital Juana Ross de Edwards (Peñablanca, Villa Alemana)']\n",
    "H_cabildo = BD.loc[BD.Establecimiento == 'Hospital Dr Víctor Hugo Moll (Cabildo)']\n",
    "H_petorca = BD.loc[BD.Establecimiento == 'Hospital de Petorca']"
   ]
  },
  {
   "cell_type": "markdown",
   "metadata": {},
   "source": [
    "defino una variable para llamar a todas las submuestras."
   ]
  },
  {
   "cell_type": "code",
   "execution_count": 13,
   "metadata": {},
   "outputs": [
    {
     "data": {
      "text/plain": [
       "['HGF',\n",
       " 'H_quillota',\n",
       " 'H_quilpue',\n",
       " 'H_quintero',\n",
       " 'H_calera',\n",
       " 'H_limache',\n",
       " 'H_ligua',\n",
       " 'H_penablanca',\n",
       " 'H_cabildo',\n",
       " 'H_petorca']"
      ]
     },
     "execution_count": 13,
     "metadata": {},
     "output_type": "execute_result"
    }
   ],
   "source": [
    "hospitales = ['HGF', 'H_quillota', 'H_quilpue', 'H_quintero',\n",
    "              'H_calera', 'H_limache', 'H_ligua', 'H_penablanca',\n",
    "              'H_cabildo', 'H_petorca']\n",
    "hospitales"
   ]
  },
  {
   "cell_type": "markdown",
   "metadata": {},
   "source": [
    "### Población"
   ]
  },
  {
   "cell_type": "markdown",
   "metadata": {},
   "source": [
    "desde una BD sacada del INE puedo tener la población de cada una de las comunas del territorio"
   ]
  },
  {
   "cell_type": "code",
   "execution_count": 14,
   "metadata": {
    "scrolled": true
   },
   "outputs": [
    {
     "data": {
      "text/plain": [
       "Index(['FID', 'REGION', 'PROVINCIA', 'COMUNA', 'NOM_REGION', 'NOM_PROVIN',\n",
       "       'NOM_COMUNA', 'TOTAL_VIVI', 'PARTICULAR', 'COLECTIVAS', 'TOTAL_PERS',\n",
       "       'HOMBRES', 'MUJERES', 'DENSIDAD', 'INDICE_MAS', 'INDICE_DEP',\n",
       "       'IND_DEP_JU', 'IND_DEP_VE', 'Shape__Area', 'Shape__Length'],\n",
       "      dtype='object')"
      ]
     },
     "execution_count": 14,
     "metadata": {},
     "output_type": "execute_result"
    },
    {
     "data": {
      "text/html": [
       "<div>\n",
       "<style scoped>\n",
       "    .dataframe tbody tr th:only-of-type {\n",
       "        vertical-align: middle;\n",
       "    }\n",
       "\n",
       "    .dataframe tbody tr th {\n",
       "        vertical-align: top;\n",
       "    }\n",
       "\n",
       "    .dataframe thead th {\n",
       "        text-align: right;\n",
       "    }\n",
       "</style>\n",
       "<table border=\"1\" class=\"dataframe\">\n",
       "  <thead>\n",
       "    <tr style=\"text-align: right;\">\n",
       "      <th></th>\n",
       "      <th>NOM_COMUNA</th>\n",
       "      <th>TOTAL_VIVI</th>\n",
       "      <th>TOTAL_PERS</th>\n",
       "      <th>Shape__Area</th>\n",
       "    </tr>\n",
       "  </thead>\n",
       "  <tbody>\n",
       "    <tr>\n",
       "      <th>0</th>\n",
       "      <td>VALPARAÍSO</td>\n",
       "      <td>117196</td>\n",
       "      <td>296655</td>\n",
       "      <td>4.520715e+08</td>\n",
       "    </tr>\n",
       "    <tr>\n",
       "      <th>1</th>\n",
       "      <td>CASABLANCA</td>\n",
       "      <td>11606</td>\n",
       "      <td>26867</td>\n",
       "      <td>1.370067e+09</td>\n",
       "    </tr>\n",
       "    <tr>\n",
       "      <th>2</th>\n",
       "      <td>CONCÓN</td>\n",
       "      <td>20290</td>\n",
       "      <td>42152</td>\n",
       "      <td>1.091926e+08</td>\n",
       "    </tr>\n",
       "    <tr>\n",
       "      <th>3</th>\n",
       "      <td>JUAN FERNÁNDEZ</td>\n",
       "      <td>445</td>\n",
       "      <td>926</td>\n",
       "      <td>1.505324e+08</td>\n",
       "    </tr>\n",
       "    <tr>\n",
       "      <th>4</th>\n",
       "      <td>PUCHUNCAVÍ</td>\n",
       "      <td>17451</td>\n",
       "      <td>18546</td>\n",
       "      <td>4.259776e+08</td>\n",
       "    </tr>\n",
       "  </tbody>\n",
       "</table>\n",
       "</div>"
      ],
      "text/plain": [
       "       NOM_COMUNA  TOTAL_VIVI  TOTAL_PERS   Shape__Area\n",
       "0      VALPARAÍSO      117196      296655  4.520715e+08\n",
       "1      CASABLANCA       11606       26867  1.370067e+09\n",
       "2          CONCÓN       20290       42152  1.091926e+08\n",
       "3  JUAN FERNÁNDEZ         445         926  1.505324e+08\n",
       "4      PUCHUNCAVÍ       17451       18546  4.259776e+08"
      ]
     },
     "execution_count": 14,
     "metadata": {},
     "output_type": "execute_result"
    }
   ],
   "source": [
    "poblacion.columns\n",
    "poblacion[['NOM_COMUNA', 'TOTAL_VIVI' , 'TOTAL_PERS', 'Shape__Area']].head()"
   ]
  },
  {
   "cell_type": "markdown",
   "metadata": {},
   "source": [
    "## Caracterización de los hospitales y lo dejo en una BD accedible y en diccionario"
   ]
  },
  {
   "cell_type": "markdown",
   "metadata": {},
   "source": [
    "esto me permite luego acceder a ellos sin problemas y poder llamarlo\n",
    "Incluyo:\n",
    "* Nombre en clave del hospital\n",
    "* nombre en SIDRA\n",
    "* Comunas que corresponde\n",
    "* Nombre de verdad del hospital para luego llamarlo cuando lo requiera\n",
    "* población asignada al hospital según comunas"
   ]
  },
  {
   "cell_type": "code",
   "execution_count": 15,
   "metadata": {},
   "outputs": [
    {
     "data": {
      "text/plain": [
       "array(['Hospital Santo Tomás (Limache)',\n",
       "       'Hospital Juana Ross de Edwards (Peñablanca, Villa Alemana)',\n",
       "       'Hospital San Martín (Quillota)',\n",
       "       'Hospital Dr Víctor Hugo Moll (Cabildo)',\n",
       "       'Hospital Adriana Cousiño (Quintero)',\n",
       "       'Hospital Dr Gustavo Fricke (Viña del Mar)',\n",
       "       'Hospital Dr Mario Sánchez Vergara (La Calera)',\n",
       "       'Hospital San Agustín (La Ligua)', 'Hospital de Quilpué',\n",
       "       'Hospital de Petorca'], dtype=object)"
      ]
     },
     "execution_count": 15,
     "metadata": {},
     "output_type": "execute_result"
    }
   ],
   "source": [
    "BD.Establecimiento.unique()"
   ]
  },
  {
   "cell_type": "code",
   "execution_count": 16,
   "metadata": {
    "collapsed": true,
    "scrolled": false
   },
   "outputs": [],
   "source": [
    "infohospitales = {}\n",
    "infohospitales['HGF']=  dict(\n",
    "    {'codigo hospital': 'HGF',\n",
    "     'Comunas': ['VIÑA DEL MAR', 'CONCÓN'],\n",
    "     'Nombre': 'Hospital de Viña',\n",
    "     'Nombre Sidra':    'Hospital Dr Gustavo Fricke (Viña del Mar)',\n",
    "     'Complejidad': 'Alta',\n",
    "     'Poblacion': float(\n",
    "         poblacion[poblacion.NOM_COMUNA == 'VIÑA DEL MAR']['TOTAL_PERS'].values + \n",
    "         poblacion[poblacion.NOM_COMUNA == 'CONCÓN']['TOTAL_PERS'].values)\n",
    "                        })\n",
    "infohospitales['H_quillota'] = dict(\n",
    "    {'codigo hospital': 'H_quillota',\n",
    "    'Comunas': ['QUILLOTA', 'LA CRUZ'],\n",
    "     'Nombre': 'Hospital de Quillota',\n",
    "          'Nombre Sidra':    'Hospital San Martín (Quillota)',\n",
    "     'Complejidad': 'Alta',\n",
    "    'Poblacion': float(\n",
    "        poblacion[poblacion.NOM_COMUNA == 'QUILLOTA']['TOTAL_PERS'].values +\n",
    "        poblacion[poblacion.NOM_COMUNA == 'LA CRUZ']['TOTAL_PERS'].values)\n",
    "                        })\n",
    "infohospitales['H_petorca'] = dict(\n",
    "    {'codigo hospital': 'H_petorca',\n",
    "    'Comunas': 'PETORCA',\n",
    "     'Nombre': 'Hospital de Petorca',\n",
    "          'Nombre Sidra':    'Hospital de Petorca',\n",
    "     'Complejidad': 'Baja',\n",
    "     'Poblacion': float(\n",
    "        poblacion[poblacion.NOM_COMUNA == 'PETORCA']['TOTAL_PERS'].values)\n",
    "                        })\n",
    "infohospitales['H_cabildo'] = dict(\n",
    "    {'codigo hospital': 'H_cabildo',\n",
    "    'Comunas': 'CABILDO',\n",
    "     'Nombre': 'Hospital de Cabildo',\n",
    "          'Nombre Sidra':   'Hospital Dr Víctor Hugo Moll (Cabildo)',\n",
    "     'Complejidad': 'Baja',\n",
    "    'Poblacion': float(\n",
    "        poblacion[poblacion.NOM_COMUNA == 'CABILDO']['TOTAL_PERS'].values)\n",
    "                        })\n",
    "infohospitales['H_quintero'] = dict(\n",
    "    {'codigo hospital': 'H_quintero',\n",
    "    'Comunas': ['PUCHUNCAVÍ', 'QUINTERO'],\n",
    "     'Nombre': 'Hospital de Quintero',\n",
    "          'Nombre Sidra':    'Hospital Adriana Cousiño (Quintero)',\n",
    "     'Complejidad': 'Media',\n",
    "    'Poblacion': float(\n",
    "        poblacion[poblacion.NOM_COMUNA == 'PUCHUNCAVÍ']['TOTAL_PERS'].values + \n",
    "        poblacion[poblacion.NOM_COMUNA == 'QUINTERO']['TOTAL_PERS'].values)\n",
    "                        })\n",
    "infohospitales['H_ligua'] = dict(\n",
    "    {'codigo hospital': 'H_ligua',\n",
    "    'Comunas': ['LA LIGUA', 'PAPUDO',  'ZAPALLAR'],\n",
    "     'Nombre': 'Hospital de La Ligua',\n",
    "          'Nombre Sidra':   'Hospital San Agustín (La Ligua)' ,\n",
    "     'Complejidad': 'Media',\n",
    "    'Poblacion': float(\n",
    "        poblacion[poblacion.NOM_COMUNA == 'LA LIGUA']['TOTAL_PERS'].values + \n",
    "        poblacion[poblacion.NOM_COMUNA == 'PAPUDO']['TOTAL_PERS'].values + \n",
    "        poblacion[poblacion.NOM_COMUNA == 'ZAPALLAR']['TOTAL_PERS'].values)\n",
    "                        })\n",
    "infohospitales['H_calera'] = dict(\n",
    "    {'codigo hospital': 'H_calera',\n",
    "    'Comunas': ['CALERA', 'NOGALES', 'HIJUELAS'],\n",
    "     'Nombre': 'Hospital de Calera',\n",
    "          'Nombre Sidra':   'Hospital Dr Mario Sánchez Vergara (La Calera)',\n",
    "     'Complejidad': 'Baja',\n",
    "    'Poblacion': float(\n",
    "        poblacion[poblacion.NOM_COMUNA == 'CALERA']['TOTAL_PERS'].values + \n",
    "        poblacion[poblacion.NOM_COMUNA == 'NOGALES']['TOTAL_PERS'].values + \n",
    "        poblacion[poblacion.NOM_COMUNA == 'HIJUELAS']['TOTAL_PERS'].values)\n",
    "                        })\n",
    "infohospitales['H_quilpue'] = dict(\n",
    "    {'codigo hospital': 'H_quilpue',\n",
    "    'Comunas': 'QUILPUÉ',\n",
    "     'Nombre': 'Hospital de Quilpué',\n",
    "          'Nombre Sidra':   'Hospital de Quilpué' ,\n",
    "     'Complejidad': 'Alta',\n",
    "    'Poblacion': float(\n",
    "        poblacion[poblacion.NOM_COMUNA == 'QUILPUÉ']['TOTAL_PERS'].values) \n",
    "        })\n",
    "infohospitales['H_penablanca'] = dict(\n",
    "    {'codigo hospital': 'H_penablanca',\n",
    "    'Comunas': 'VILLA ALEMANA',\n",
    "     'Nombre': 'Hospital de Villa Alemana',\n",
    "          'Nombre Sidra':   'Hospital Juana Ross de Edwards (Peñablanca, Villa Alemana)' ,\n",
    "     'Complejidad': 'Media',\n",
    "    'Poblacion': float(\n",
    "        poblacion[poblacion.NOM_COMUNA == 'VILLA ALEMANA']['TOTAL_PERS'].values) \n",
    "        })\n",
    "infohospitales['H_limache'] = dict(\n",
    "    {'codigo hospital': 'H_limache',\n",
    "    'Comunas': [ 'LIMACHE', 'OLMUÉ'],\n",
    "     'Nombre': 'Hospital de Limache',\n",
    "          'Nombre Sidra':   'Hospital Santo Tomás (Limache)',\n",
    "     'Complejidad': 'Media',\n",
    "    'Poblacion': float(\n",
    "        poblacion[poblacion.NOM_COMUNA == 'LIMACHE']['TOTAL_PERS'].values +\n",
    "        poblacion[poblacion.NOM_COMUNA == 'OLMUÉ']['TOTAL_PERS'].values) \n",
    "        })\n"
   ]
  },
  {
   "cell_type": "code",
   "execution_count": null,
   "metadata": {
    "collapsed": true,
    "scrolled": false
   },
   "outputs": [],
   "source": []
  },
  {
   "cell_type": "code",
   "execution_count": 17,
   "metadata": {},
   "outputs": [
    {
     "data": {
      "text/html": [
       "<div>\n",
       "<style scoped>\n",
       "    .dataframe tbody tr th:only-of-type {\n",
       "        vertical-align: middle;\n",
       "    }\n",
       "\n",
       "    .dataframe tbody tr th {\n",
       "        vertical-align: top;\n",
       "    }\n",
       "\n",
       "    .dataframe thead th {\n",
       "        text-align: right;\n",
       "    }\n",
       "</style>\n",
       "<table border=\"1\" class=\"dataframe\">\n",
       "  <thead>\n",
       "    <tr style=\"text-align: right;\">\n",
       "      <th></th>\n",
       "      <th>Complejidad</th>\n",
       "      <th>Comunas</th>\n",
       "      <th>Nombre</th>\n",
       "      <th>Nombre Sidra</th>\n",
       "      <th>Poblacion</th>\n",
       "      <th>codigo hospital</th>\n",
       "    </tr>\n",
       "  </thead>\n",
       "  <tbody>\n",
       "    <tr>\n",
       "      <th>HGF</th>\n",
       "      <td>Alta</td>\n",
       "      <td>[VIÑA DEL MAR, CONCÓN]</td>\n",
       "      <td>Hospital de Viña</td>\n",
       "      <td>Hospital Dr Gustavo Fricke (Viña del Mar)</td>\n",
       "      <td>376400</td>\n",
       "      <td>HGF</td>\n",
       "    </tr>\n",
       "    <tr>\n",
       "      <th>H_quillota</th>\n",
       "      <td>Alta</td>\n",
       "      <td>[QUILLOTA, LA CRUZ]</td>\n",
       "      <td>Hospital de Quillota</td>\n",
       "      <td>Hospital San Martín (Quillota)</td>\n",
       "      <td>112615</td>\n",
       "      <td>H_quillota</td>\n",
       "    </tr>\n",
       "    <tr>\n",
       "      <th>H_petorca</th>\n",
       "      <td>Baja</td>\n",
       "      <td>PETORCA</td>\n",
       "      <td>Hospital de Petorca</td>\n",
       "      <td>Hospital de Petorca</td>\n",
       "      <td>9826</td>\n",
       "      <td>H_petorca</td>\n",
       "    </tr>\n",
       "    <tr>\n",
       "      <th>H_cabildo</th>\n",
       "      <td>Baja</td>\n",
       "      <td>CABILDO</td>\n",
       "      <td>Hospital de Cabildo</td>\n",
       "      <td>Hospital Dr Víctor Hugo Moll (Cabildo)</td>\n",
       "      <td>19388</td>\n",
       "      <td>H_cabildo</td>\n",
       "    </tr>\n",
       "    <tr>\n",
       "      <th>H_quintero</th>\n",
       "      <td>Media</td>\n",
       "      <td>[PUCHUNCAVÍ, QUINTERO]</td>\n",
       "      <td>Hospital de Quintero</td>\n",
       "      <td>Hospital Adriana Cousiño (Quintero)</td>\n",
       "      <td>50469</td>\n",
       "      <td>H_quintero</td>\n",
       "    </tr>\n",
       "    <tr>\n",
       "      <th>H_ligua</th>\n",
       "      <td>Media</td>\n",
       "      <td>[LA LIGUA, PAPUDO, ZAPALLAR]</td>\n",
       "      <td>Hospital de La Ligua</td>\n",
       "      <td>Hospital San Agustín (La Ligua)</td>\n",
       "      <td>49085</td>\n",
       "      <td>H_ligua</td>\n",
       "    </tr>\n",
       "    <tr>\n",
       "      <th>H_calera</th>\n",
       "      <td>Baja</td>\n",
       "      <td>[CALERA, NOGALES, HIJUELAS]</td>\n",
       "      <td>Hospital de Calera</td>\n",
       "      <td>Hospital Dr Mario Sánchez Vergara (La Calera)</td>\n",
       "      <td>90662</td>\n",
       "      <td>H_calera</td>\n",
       "    </tr>\n",
       "    <tr>\n",
       "      <th>H_quilpue</th>\n",
       "      <td>Alta</td>\n",
       "      <td>QUILPUÉ</td>\n",
       "      <td>Hospital de Quilpué</td>\n",
       "      <td>Hospital de Quilpué</td>\n",
       "      <td>151708</td>\n",
       "      <td>H_quilpue</td>\n",
       "    </tr>\n",
       "    <tr>\n",
       "      <th>H_penablanca</th>\n",
       "      <td>Media</td>\n",
       "      <td>VILLA ALEMANA</td>\n",
       "      <td>Hospital de Villa Alemana</td>\n",
       "      <td>Hospital Juana Ross de Edwards (Peñablanca, Vi...</td>\n",
       "      <td>126548</td>\n",
       "      <td>H_penablanca</td>\n",
       "    </tr>\n",
       "    <tr>\n",
       "      <th>H_limache</th>\n",
       "      <td>Media</td>\n",
       "      <td>[LIMACHE, OLMUÉ]</td>\n",
       "      <td>Hospital de Limache</td>\n",
       "      <td>Hospital Santo Tomás (Limache)</td>\n",
       "      <td>63637</td>\n",
       "      <td>H_limache</td>\n",
       "    </tr>\n",
       "  </tbody>\n",
       "</table>\n",
       "</div>"
      ],
      "text/plain": [
       "             Complejidad                       Comunas  \\\n",
       "HGF                 Alta        [VIÑA DEL MAR, CONCÓN]   \n",
       "H_quillota          Alta           [QUILLOTA, LA CRUZ]   \n",
       "H_petorca           Baja                       PETORCA   \n",
       "H_cabildo           Baja                       CABILDO   \n",
       "H_quintero         Media        [PUCHUNCAVÍ, QUINTERO]   \n",
       "H_ligua            Media  [LA LIGUA, PAPUDO, ZAPALLAR]   \n",
       "H_calera            Baja   [CALERA, NOGALES, HIJUELAS]   \n",
       "H_quilpue           Alta                       QUILPUÉ   \n",
       "H_penablanca       Media                 VILLA ALEMANA   \n",
       "H_limache          Media              [LIMACHE, OLMUÉ]   \n",
       "\n",
       "                                 Nombre  \\\n",
       "HGF                    Hospital de Viña   \n",
       "H_quillota         Hospital de Quillota   \n",
       "H_petorca           Hospital de Petorca   \n",
       "H_cabildo           Hospital de Cabildo   \n",
       "H_quintero         Hospital de Quintero   \n",
       "H_ligua            Hospital de La Ligua   \n",
       "H_calera             Hospital de Calera   \n",
       "H_quilpue           Hospital de Quilpué   \n",
       "H_penablanca  Hospital de Villa Alemana   \n",
       "H_limache           Hospital de Limache   \n",
       "\n",
       "                                                   Nombre Sidra Poblacion  \\\n",
       "HGF                   Hospital Dr Gustavo Fricke (Viña del Mar)    376400   \n",
       "H_quillota                       Hospital San Martín (Quillota)    112615   \n",
       "H_petorca                                   Hospital de Petorca      9826   \n",
       "H_cabildo                Hospital Dr Víctor Hugo Moll (Cabildo)     19388   \n",
       "H_quintero                  Hospital Adriana Cousiño (Quintero)     50469   \n",
       "H_ligua                         Hospital San Agustín (La Ligua)     49085   \n",
       "H_calera          Hospital Dr Mario Sánchez Vergara (La Calera)     90662   \n",
       "H_quilpue                                   Hospital de Quilpué    151708   \n",
       "H_penablanca  Hospital Juana Ross de Edwards (Peñablanca, Vi...    126548   \n",
       "H_limache                        Hospital Santo Tomás (Limache)     63637   \n",
       "\n",
       "             codigo hospital  \n",
       "HGF                      HGF  \n",
       "H_quillota        H_quillota  \n",
       "H_petorca          H_petorca  \n",
       "H_cabildo          H_cabildo  \n",
       "H_quintero        H_quintero  \n",
       "H_ligua              H_ligua  \n",
       "H_calera            H_calera  \n",
       "H_quilpue          H_quilpue  \n",
       "H_penablanca    H_penablanca  \n",
       "H_limache          H_limache  "
      ]
     },
     "execution_count": 17,
     "metadata": {},
     "output_type": "execute_result"
    }
   ],
   "source": [
    "BD_infohosp = pd.DataFrame.from_dict(infohospitales).T\n",
    "BD_infohosp\n",
    "#BD_infohosp.sort_values('Poblacion')[['Nombre','Complejidad', 'Comunas']]"
   ]
  },
  {
   "cell_type": "code",
   "execution_count": 18,
   "metadata": {},
   "outputs": [
    {
     "data": {
      "text/plain": [
       "Index(['Establecimiento', 'RutPaciente', 'Edad', 'Sexo_x', 'Comuna',\n",
       "       'Provincia', 'MotivoConsulta', 'Prevision', 'Telefono', 'Direccion',\n",
       "       'Nombre', 'Apellido Paterno', 'Apellido Materno', 'Fecha Nacimiento',\n",
       "       'Plan', 'Condición de Urgencia', 'ClasificacionConsulta',\n",
       "       'TipoAccidente', 'NumeroAtencionesAnteriores', 'DiagnosticoPrincipal',\n",
       "       'OtrosDiagnosticos', 'LlegadaEn', 'ProcedenciaPaciente',\n",
       "       'Origen_paciente', 'Arribo_paciente', 'LlegadaSAMU', 'Destino_paciente',\n",
       "       'AtInterrumpidaPor', 'AtendidoPor', 'DestinoAlta', 'CondicionAlCierre',\n",
       "       'Pronostico', 'Categorizacion', 'AtencionEnfermeria', 'Local',\n",
       "       'TS_ingreso', 'TS_triage', 'TS_atencion', 'TS_cierremedico',\n",
       "       'TS_egreso', 'DT_EsperaCategorizacion', 'DT_EsperaMD', 'DT_AtencionMD',\n",
       "       'DT_definicionPAC', 'DT_Espera_CierreAdm', 'DT_Total', 'Triage',\n",
       "       'Turno'],\n",
       "      dtype='object')"
      ]
     },
     "execution_count": 18,
     "metadata": {},
     "output_type": "execute_result"
    }
   ],
   "source": [
    "HGF.columns"
   ]
  },
  {
   "cell_type": "markdown",
   "metadata": {},
   "source": [
    "# Algunos pequenos cambios"
   ]
  },
  {
   "cell_type": "markdown",
   "metadata": {},
   "source": [
    "cambio el complejo nombre de establecimiento de SIDRA por el nombre de verdad del hosital (según comuna), nin nmbre propio"
   ]
  },
  {
   "cell_type": "code",
   "execution_count": 19,
   "metadata": {
    "collapsed": true,
    "scrolled": false
   },
   "outputs": [],
   "source": [
    "for hosp in hospitales:\n",
    "    BD.loc[BD.Establecimiento == infohospitales[hosp]['Nombre Sidra'], 'Establecimiento'] = infohospitales[hosp]['Nombre']"
   ]
  },
  {
   "cell_type": "code",
   "execution_count": 20,
   "metadata": {},
   "outputs": [
    {
     "data": {
      "text/plain": [
       "Hospital de Viña             176603\n",
       "Hospital de Quillota          93241\n",
       "Hospital de Quilpué           83357\n",
       "Hospital de Quintero          55908\n",
       "Hospital de Calera            50889\n",
       "Hospital de Limache           48302\n",
       "Hospital de La Ligua          45079\n",
       "Hospital de Villa Alemana     39700\n",
       "Hospital de Cabildo           27419\n",
       "Hospital de Petorca           12083\n",
       "Name: Establecimiento, dtype: int64"
      ]
     },
     "execution_count": 20,
     "metadata": {},
     "output_type": "execute_result"
    }
   ],
   "source": [
    "BD.Establecimiento.value_counts()"
   ]
  },
  {
   "cell_type": "markdown",
   "metadata": {},
   "source": [
    "# Descripción general de la BD para luego usar esta meta-información para cálculos"
   ]
  },
  {
   "cell_type": "code",
   "execution_count": 21,
   "metadata": {},
   "outputs": [
    {
     "data": {
      "text/plain": [
       "Index(['Establecimiento', 'RutPaciente', 'Edad', 'Sexo_x', 'Comuna',\n",
       "       'Provincia', 'MotivoConsulta', 'Prevision', 'Telefono', 'Direccion',\n",
       "       'Nombre', 'Apellido Paterno', 'Apellido Materno', 'Fecha Nacimiento',\n",
       "       'Plan', 'Condición de Urgencia', 'ClasificacionConsulta',\n",
       "       'TipoAccidente', 'NumeroAtencionesAnteriores', 'DiagnosticoPrincipal',\n",
       "       'OtrosDiagnosticos', 'LlegadaEn', 'ProcedenciaPaciente',\n",
       "       'Origen_paciente', 'Arribo_paciente', 'LlegadaSAMU', 'Destino_paciente',\n",
       "       'AtInterrumpidaPor', 'AtendidoPor', 'DestinoAlta', 'CondicionAlCierre',\n",
       "       'Pronostico', 'Categorizacion', 'AtencionEnfermeria', 'Local',\n",
       "       'TS_ingreso', 'TS_triage', 'TS_atencion', 'TS_cierremedico',\n",
       "       'TS_egreso', 'DT_EsperaCategorizacion', 'DT_EsperaMD', 'DT_AtencionMD',\n",
       "       'DT_definicionPAC', 'DT_Espera_CierreAdm', 'DT_Total', 'Triage',\n",
       "       'Turno'],\n",
       "      dtype='object')"
      ]
     },
     "execution_count": 21,
     "metadata": {},
     "output_type": "execute_result"
    }
   ],
   "source": [
    "BD.columns"
   ]
  },
  {
   "cell_type": "code",
   "execution_count": null,
   "metadata": {},
   "outputs": [],
   "source": []
  },
  {
   "cell_type": "code",
   "execution_count": null,
   "metadata": {},
   "outputs": [],
   "source": []
  },
  {
   "cell_type": "code",
   "execution_count": null,
   "metadata": {},
   "outputs": [],
   "source": []
  },
  {
   "cell_type": "code",
   "execution_count": null,
   "metadata": {},
   "outputs": [],
   "source": []
  },
  {
   "cell_type": "code",
   "execution_count": 22,
   "metadata": {},
   "outputs": [
    {
     "data": {
      "text/html": [
       "<div>\n",
       "<style scoped>\n",
       "    .dataframe tbody tr th:only-of-type {\n",
       "        vertical-align: middle;\n",
       "    }\n",
       "\n",
       "    .dataframe tbody tr th {\n",
       "        vertical-align: top;\n",
       "    }\n",
       "\n",
       "    .dataframe thead th {\n",
       "        text-align: right;\n",
       "    }\n",
       "</style>\n",
       "<table border=\"1\" class=\"dataframe\">\n",
       "  <thead>\n",
       "    <tr style=\"text-align: right;\">\n",
       "      <th></th>\n",
       "      <th>LlegadaEn</th>\n",
       "      <th>ProcedenciaPaciente</th>\n",
       "      <th>Origen_paciente</th>\n",
       "      <th>Arribo_paciente</th>\n",
       "      <th>LlegadaSAMU</th>\n",
       "      <th>Destino_paciente</th>\n",
       "    </tr>\n",
       "    <tr>\n",
       "      <th>NumeroEpisodio</th>\n",
       "      <th></th>\n",
       "      <th></th>\n",
       "      <th></th>\n",
       "      <th></th>\n",
       "      <th></th>\n",
       "      <th></th>\n",
       "    </tr>\n",
       "  </thead>\n",
       "  <tbody>\n",
       "    <tr>\n",
       "      <th>U0002625295</th>\n",
       "      <td>A Pie</td>\n",
       "      <td>Espontáneo</td>\n",
       "      <td>Origen Espontáneo</td>\n",
       "      <td>Espontáneo</td>\n",
       "      <td>NaN</td>\n",
       "      <td>Alta domiciliaria</td>\n",
       "    </tr>\n",
       "    <tr>\n",
       "      <th>U0002625301</th>\n",
       "      <td>A Pie</td>\n",
       "      <td>Espontáneo</td>\n",
       "      <td>Origen Espontáneo</td>\n",
       "      <td>Espontáneo</td>\n",
       "      <td>NaN</td>\n",
       "      <td>Alta domiciliaria</td>\n",
       "    </tr>\n",
       "    <tr>\n",
       "      <th>U0002625309</th>\n",
       "      <td>A Pie</td>\n",
       "      <td>Espontáneo</td>\n",
       "      <td>Origen Espontáneo</td>\n",
       "      <td>Espontáneo</td>\n",
       "      <td>NaN</td>\n",
       "      <td>Alta domiciliaria</td>\n",
       "    </tr>\n",
       "    <tr>\n",
       "      <th>U0002625318</th>\n",
       "      <td>Vehículo Policial</td>\n",
       "      <td>Espontáneo</td>\n",
       "      <td>Origen Espontáneo</td>\n",
       "      <td>Policia</td>\n",
       "      <td>NaN</td>\n",
       "      <td>Traslado a otro centro</td>\n",
       "    </tr>\n",
       "    <tr>\n",
       "      <th>U0002625336</th>\n",
       "      <td>A Pie</td>\n",
       "      <td>Espontáneo</td>\n",
       "      <td>Origen Espontáneo</td>\n",
       "      <td>Espontáneo</td>\n",
       "      <td>NaN</td>\n",
       "      <td>Alta domiciliaria</td>\n",
       "    </tr>\n",
       "  </tbody>\n",
       "</table>\n",
       "</div>"
      ],
      "text/plain": [
       "                        LlegadaEn ProcedenciaPaciente    Origen_paciente  \\\n",
       "NumeroEpisodio                                                             \n",
       "U0002625295                 A Pie          Espontáneo  Origen Espontáneo   \n",
       "U0002625301                 A Pie          Espontáneo  Origen Espontáneo   \n",
       "U0002625309                 A Pie          Espontáneo  Origen Espontáneo   \n",
       "U0002625318     Vehículo Policial          Espontáneo  Origen Espontáneo   \n",
       "U0002625336                 A Pie          Espontáneo  Origen Espontáneo   \n",
       "\n",
       "               Arribo_paciente LlegadaSAMU        Destino_paciente  \n",
       "NumeroEpisodio                                                      \n",
       "U0002625295         Espontáneo         NaN       Alta domiciliaria  \n",
       "U0002625301         Espontáneo         NaN       Alta domiciliaria  \n",
       "U0002625309         Espontáneo         NaN       Alta domiciliaria  \n",
       "U0002625318            Policia         NaN  Traslado a otro centro  \n",
       "U0002625336         Espontáneo         NaN       Alta domiciliaria  "
      ]
     },
     "execution_count": 22,
     "metadata": {},
     "output_type": "execute_result"
    }
   ],
   "source": [
    "BD[['LlegadaEn', 'ProcedenciaPaciente',\n",
    "       'Origen_paciente', 'Arribo_paciente', 'LlegadaSAMU', 'Destino_paciente']].head()"
   ]
  },
  {
   "cell_type": "code",
   "execution_count": 23,
   "metadata": {
    "scrolled": true
   },
   "outputs": [
    {
     "data": {
      "text/plain": [
       "{'diferencia': Timedelta('363 days 23:54:00'),\n",
       " 'fin': Timestamp('2018-12-30 23:57:00'),\n",
       " 'inicio': Timestamp('2018-01-01 00:03:00')}"
      ]
     },
     "execution_count": 23,
     "metadata": {},
     "output_type": "execute_result"
    }
   ],
   "source": [
    "tiempo = {}\n",
    "tiempo['inicio']     = BD.TS_ingreso.describe()[4]\n",
    "tiempo['fin']        = BD.TS_ingreso.describe()[5]\n",
    "tiempo['diferencia'] = BD.TS_ingreso.describe()[5] - BD.TS_ingreso.describe()[4]\n",
    "tiempo "
   ]
  },
  {
   "cell_type": "markdown",
   "metadata": {},
   "source": [
    "creo listas con las variables importantes para hacer análisis por separado de ellas\n"
   ]
  },
  {
   "cell_type": "code",
   "execution_count": null,
   "metadata": {
    "collapsed": true,
    "scrolled": true
   },
   "outputs": [],
   "source": []
  },
  {
   "cell_type": "code",
   "execution_count": 24,
   "metadata": {
    "collapsed": true
   },
   "outputs": [],
   "source": [
    "TSs = ['TS_ingreso', 'TS_triage', 'TS_atencion', 'TS_cierremedico','TS_egreso']\n",
    "DTs = ['DT_EsperaCategorizacion', 'DT_EsperaMD', 'DT_AtencionMD',\n",
    "       'DT_definicionPAC', 'DT_Espera_CierreAdm', 'DT_Total']\n",
    "\n",
    "data_paciente = ['Edad', 'Sexo_x', 'Comuna', 'Prevision', 'Plan', 'NumeroAtencionesAnteriores']\n",
    "\n",
    "data_atencion = ['ClasificacionConsulta',\n",
    "                 'Origen_paciente', 'Arribo_paciente', 'LlegadaSAMU', 'Destino_paciente',\n",
    "                 'AtInterrumpidaPor',\n",
    "                 'CondicionAlCierre', 'Pronostico',\n",
    "                  'Triage'    , 'Turno']\n",
    "\n"
   ]
  },
  {
   "cell_type": "markdown",
   "metadata": {},
   "source": [
    "recordar que tengo algunas variables auxiliares:\n",
    "* lista con datos del paciente\n",
    "* **TSs** : lista con datos de tiempos tipo timestamps\n",
    "* **DTs** : lista con datos \n",
    "* **data_paciente** : datos del paciente en atención:\n",
    "    * Edad\n",
    "    * Sexo_x\n",
    "    * Comuna\n",
    "    * Prevision\n",
    "    * 'Plan'\n",
    "\n",
    "    * NumeroAtencionesAnteriores\n",
    "    \n",
    "* **data_atencion**\n",
    "    * ClasificacionConsulta\n",
    "    * 'ProcedenciaPaciente',\n",
    "    * 'AtInterrumpidaPor'\n",
    "    * 'DestinoAlta'\n",
    "    * 'CondicionAlCierre'\n",
    "    * 'Pronostico'\n",
    "    * 'triage'\n",
    "    * 'Turno'\n",
    "\n",
    "* **hospitales**: lista todos los nombre en clave de los hospitales\n",
    "* **BD_infohosp**: una tabla con datos de intrinsecos de los hospitales\n",
    "    * Complejidad': defino la complejidad de los hospitales\n",
    "    * 'Comunas': comunas de derivación 1rias\n",
    "    * 'Nombre': Nombre del hospital según su ciudad (accequible)\n",
    "    * 'Nombre Sidra': nombre asignado por sidra\n",
    "    * 'Poblacion': población asignado según comunas de derivación\n",
    "    * 'codigo hospital: código mio para referirme a los hospitales\n",
    "* **infohospitales**: un dictado que tiene la misma información anterior"
   ]
  },
  {
   "cell_type": "code",
   "execution_count": 25,
   "metadata": {
    "scrolled": true
   },
   "outputs": [
    {
     "data": {
      "text/html": [
       "<div>\n",
       "<style scoped>\n",
       "    .dataframe tbody tr th:only-of-type {\n",
       "        vertical-align: middle;\n",
       "    }\n",
       "\n",
       "    .dataframe tbody tr th {\n",
       "        vertical-align: top;\n",
       "    }\n",
       "\n",
       "    .dataframe thead th {\n",
       "        text-align: right;\n",
       "    }\n",
       "</style>\n",
       "<table border=\"1\" class=\"dataframe\">\n",
       "  <thead>\n",
       "    <tr style=\"text-align: right;\">\n",
       "      <th></th>\n",
       "      <th>TS_ingreso</th>\n",
       "      <th>TS_triage</th>\n",
       "      <th>TS_atencion</th>\n",
       "      <th>TS_cierremedico</th>\n",
       "      <th>TS_egreso</th>\n",
       "    </tr>\n",
       "    <tr>\n",
       "      <th>NumeroEpisodio</th>\n",
       "      <th></th>\n",
       "      <th></th>\n",
       "      <th></th>\n",
       "      <th></th>\n",
       "      <th></th>\n",
       "    </tr>\n",
       "  </thead>\n",
       "  <tbody>\n",
       "    <tr>\n",
       "      <th>U0002625295</th>\n",
       "      <td>2018-12-16 00:21:00</td>\n",
       "      <td>2018-12-16 00:25:00</td>\n",
       "      <td>2018-12-16 02:23:00</td>\n",
       "      <td>2018-12-16 02:41:00</td>\n",
       "      <td>2018-12-16 03:52:00</td>\n",
       "    </tr>\n",
       "    <tr>\n",
       "      <th>U0002625301</th>\n",
       "      <td>2018-12-16 00:29:00</td>\n",
       "      <td>2018-12-16 00:31:00</td>\n",
       "      <td>2018-12-16 02:37:00</td>\n",
       "      <td>2018-12-16 02:39:00</td>\n",
       "      <td>2018-12-16 03:52:00</td>\n",
       "    </tr>\n",
       "    <tr>\n",
       "      <th>U0002625309</th>\n",
       "      <td>2018-12-16 00:37:00</td>\n",
       "      <td>2018-12-16 00:40:00</td>\n",
       "      <td>2018-12-16 02:52:00</td>\n",
       "      <td>2018-12-16 03:04:00</td>\n",
       "      <td>2018-12-16 03:11:00</td>\n",
       "    </tr>\n",
       "    <tr>\n",
       "      <th>U0002625318</th>\n",
       "      <td>2018-12-16 00:52:00</td>\n",
       "      <td>2018-12-16 00:54:00</td>\n",
       "      <td>2018-12-16 01:04:00</td>\n",
       "      <td>2018-12-16 01:15:00</td>\n",
       "      <td>2018-12-16 02:21:00</td>\n",
       "    </tr>\n",
       "    <tr>\n",
       "      <th>U0002625336</th>\n",
       "      <td>2018-12-16 01:21:00</td>\n",
       "      <td>2018-12-16 01:42:00</td>\n",
       "      <td>2018-12-16 03:11:00</td>\n",
       "      <td>2018-12-16 03:13:00</td>\n",
       "      <td>2018-12-16 03:20:00</td>\n",
       "    </tr>\n",
       "  </tbody>\n",
       "</table>\n",
       "</div>"
      ],
      "text/plain": [
       "                        TS_ingreso           TS_triage         TS_atencion  \\\n",
       "NumeroEpisodio                                                               \n",
       "U0002625295    2018-12-16 00:21:00 2018-12-16 00:25:00 2018-12-16 02:23:00   \n",
       "U0002625301    2018-12-16 00:29:00 2018-12-16 00:31:00 2018-12-16 02:37:00   \n",
       "U0002625309    2018-12-16 00:37:00 2018-12-16 00:40:00 2018-12-16 02:52:00   \n",
       "U0002625318    2018-12-16 00:52:00 2018-12-16 00:54:00 2018-12-16 01:04:00   \n",
       "U0002625336    2018-12-16 01:21:00 2018-12-16 01:42:00 2018-12-16 03:11:00   \n",
       "\n",
       "                   TS_cierremedico           TS_egreso  \n",
       "NumeroEpisodio                                          \n",
       "U0002625295    2018-12-16 02:41:00 2018-12-16 03:52:00  \n",
       "U0002625301    2018-12-16 02:39:00 2018-12-16 03:52:00  \n",
       "U0002625309    2018-12-16 03:04:00 2018-12-16 03:11:00  \n",
       "U0002625318    2018-12-16 01:15:00 2018-12-16 02:21:00  \n",
       "U0002625336    2018-12-16 03:13:00 2018-12-16 03:20:00  "
      ]
     },
     "execution_count": 25,
     "metadata": {},
     "output_type": "execute_result"
    },
    {
     "data": {
      "text/html": [
       "<div>\n",
       "<style scoped>\n",
       "    .dataframe tbody tr th:only-of-type {\n",
       "        vertical-align: middle;\n",
       "    }\n",
       "\n",
       "    .dataframe tbody tr th {\n",
       "        vertical-align: top;\n",
       "    }\n",
       "\n",
       "    .dataframe thead th {\n",
       "        text-align: right;\n",
       "    }\n",
       "</style>\n",
       "<table border=\"1\" class=\"dataframe\">\n",
       "  <thead>\n",
       "    <tr style=\"text-align: right;\">\n",
       "      <th></th>\n",
       "      <th>DT_EsperaCategorizacion</th>\n",
       "      <th>DT_EsperaMD</th>\n",
       "      <th>DT_AtencionMD</th>\n",
       "      <th>DT_definicionPAC</th>\n",
       "      <th>DT_Espera_CierreAdm</th>\n",
       "      <th>DT_Total</th>\n",
       "    </tr>\n",
       "    <tr>\n",
       "      <th>NumeroEpisodio</th>\n",
       "      <th></th>\n",
       "      <th></th>\n",
       "      <th></th>\n",
       "      <th></th>\n",
       "      <th></th>\n",
       "      <th></th>\n",
       "    </tr>\n",
       "  </thead>\n",
       "  <tbody>\n",
       "    <tr>\n",
       "      <th>U0002625295</th>\n",
       "      <td>00:04:00</td>\n",
       "      <td>01:58:00</td>\n",
       "      <td>00:18:00</td>\n",
       "      <td>02:20:00</td>\n",
       "      <td>01:11:00</td>\n",
       "      <td>03:31:00</td>\n",
       "    </tr>\n",
       "    <tr>\n",
       "      <th>U0002625301</th>\n",
       "      <td>00:02:00</td>\n",
       "      <td>02:06:00</td>\n",
       "      <td>00:02:00</td>\n",
       "      <td>02:10:00</td>\n",
       "      <td>01:13:00</td>\n",
       "      <td>03:23:00</td>\n",
       "    </tr>\n",
       "    <tr>\n",
       "      <th>U0002625309</th>\n",
       "      <td>00:03:00</td>\n",
       "      <td>02:12:00</td>\n",
       "      <td>00:12:00</td>\n",
       "      <td>02:27:00</td>\n",
       "      <td>00:07:00</td>\n",
       "      <td>02:34:00</td>\n",
       "    </tr>\n",
       "    <tr>\n",
       "      <th>U0002625318</th>\n",
       "      <td>00:02:00</td>\n",
       "      <td>00:10:00</td>\n",
       "      <td>00:11:00</td>\n",
       "      <td>00:23:00</td>\n",
       "      <td>01:06:00</td>\n",
       "      <td>01:29:00</td>\n",
       "    </tr>\n",
       "    <tr>\n",
       "      <th>U0002625336</th>\n",
       "      <td>00:21:00</td>\n",
       "      <td>01:29:00</td>\n",
       "      <td>00:02:00</td>\n",
       "      <td>01:52:00</td>\n",
       "      <td>00:07:00</td>\n",
       "      <td>01:59:00</td>\n",
       "    </tr>\n",
       "  </tbody>\n",
       "</table>\n",
       "</div>"
      ],
      "text/plain": [
       "               DT_EsperaCategorizacion DT_EsperaMD DT_AtencionMD  \\\n",
       "NumeroEpisodio                                                     \n",
       "U0002625295                   00:04:00    01:58:00      00:18:00   \n",
       "U0002625301                   00:02:00    02:06:00      00:02:00   \n",
       "U0002625309                   00:03:00    02:12:00      00:12:00   \n",
       "U0002625318                   00:02:00    00:10:00      00:11:00   \n",
       "U0002625336                   00:21:00    01:29:00      00:02:00   \n",
       "\n",
       "               DT_definicionPAC DT_Espera_CierreAdm DT_Total  \n",
       "NumeroEpisodio                                                \n",
       "U0002625295            02:20:00            01:11:00 03:31:00  \n",
       "U0002625301            02:10:00            01:13:00 03:23:00  \n",
       "U0002625309            02:27:00            00:07:00 02:34:00  \n",
       "U0002625318            00:23:00            01:06:00 01:29:00  \n",
       "U0002625336            01:52:00            00:07:00 01:59:00  "
      ]
     },
     "execution_count": 25,
     "metadata": {},
     "output_type": "execute_result"
    },
    {
     "data": {
      "text/html": [
       "<div>\n",
       "<style scoped>\n",
       "    .dataframe tbody tr th:only-of-type {\n",
       "        vertical-align: middle;\n",
       "    }\n",
       "\n",
       "    .dataframe tbody tr th {\n",
       "        vertical-align: top;\n",
       "    }\n",
       "\n",
       "    .dataframe thead th {\n",
       "        text-align: right;\n",
       "    }\n",
       "</style>\n",
       "<table border=\"1\" class=\"dataframe\">\n",
       "  <thead>\n",
       "    <tr style=\"text-align: right;\">\n",
       "      <th></th>\n",
       "      <th>Edad</th>\n",
       "      <th>Sexo_x</th>\n",
       "      <th>Comuna</th>\n",
       "      <th>Prevision</th>\n",
       "      <th>Plan</th>\n",
       "      <th>NumeroAtencionesAnteriores</th>\n",
       "    </tr>\n",
       "    <tr>\n",
       "      <th>NumeroEpisodio</th>\n",
       "      <th></th>\n",
       "      <th></th>\n",
       "      <th></th>\n",
       "      <th></th>\n",
       "      <th></th>\n",
       "      <th></th>\n",
       "    </tr>\n",
       "  </thead>\n",
       "  <tbody>\n",
       "    <tr>\n",
       "      <th>U0002625295</th>\n",
       "      <td>40.0</td>\n",
       "      <td>Mujer</td>\n",
       "      <td>Limache</td>\n",
       "      <td>FONASA</td>\n",
       "      <td>Grupo C</td>\n",
       "      <td>14.0</td>\n",
       "    </tr>\n",
       "    <tr>\n",
       "      <th>U0002625301</th>\n",
       "      <td>66.0</td>\n",
       "      <td>Hombre</td>\n",
       "      <td>Limache</td>\n",
       "      <td>FONASA</td>\n",
       "      <td>Grupo C</td>\n",
       "      <td>14.0</td>\n",
       "    </tr>\n",
       "    <tr>\n",
       "      <th>U0002625309</th>\n",
       "      <td>32.0</td>\n",
       "      <td>Hombre</td>\n",
       "      <td>Limache</td>\n",
       "      <td>FONASA</td>\n",
       "      <td>Grupo A</td>\n",
       "      <td>17.0</td>\n",
       "    </tr>\n",
       "    <tr>\n",
       "      <th>U0002625318</th>\n",
       "      <td>43.0</td>\n",
       "      <td>Hombre</td>\n",
       "      <td>Limache</td>\n",
       "      <td>FONASA</td>\n",
       "      <td>Grupo A</td>\n",
       "      <td>23.0</td>\n",
       "    </tr>\n",
       "    <tr>\n",
       "      <th>U0002625336</th>\n",
       "      <td>32.0</td>\n",
       "      <td>Hombre</td>\n",
       "      <td>Olmué</td>\n",
       "      <td>FONASA</td>\n",
       "      <td>Grupo D</td>\n",
       "      <td>1.0</td>\n",
       "    </tr>\n",
       "  </tbody>\n",
       "</table>\n",
       "</div>"
      ],
      "text/plain": [
       "                Edad  Sexo_x   Comuna Prevision     Plan  \\\n",
       "NumeroEpisodio                                             \n",
       "U0002625295     40.0   Mujer  Limache    FONASA  Grupo C   \n",
       "U0002625301     66.0  Hombre  Limache    FONASA  Grupo C   \n",
       "U0002625309     32.0  Hombre  Limache    FONASA  Grupo A   \n",
       "U0002625318     43.0  Hombre  Limache    FONASA  Grupo A   \n",
       "U0002625336     32.0  Hombre    Olmué    FONASA  Grupo D   \n",
       "\n",
       "                NumeroAtencionesAnteriores  \n",
       "NumeroEpisodio                              \n",
       "U0002625295                           14.0  \n",
       "U0002625301                           14.0  \n",
       "U0002625309                           17.0  \n",
       "U0002625318                           23.0  \n",
       "U0002625336                            1.0  "
      ]
     },
     "execution_count": 25,
     "metadata": {},
     "output_type": "execute_result"
    },
    {
     "name": "stdout",
     "output_type": "stream",
     "text": [
      "Edad\n"
     ]
    },
    {
     "data": {
      "text/plain": [
       "0.0    23533\n",
       "1.0    20299\n",
       "2.0    15646\n",
       "3.0    13419\n",
       "4.0    11283\n",
       "Name: Edad, dtype: int64"
      ]
     },
     "execution_count": 25,
     "metadata": {},
     "output_type": "execute_result"
    },
    {
     "name": "stdout",
     "output_type": "stream",
     "text": [
      "Sexo_x\n"
     ]
    },
    {
     "data": {
      "text/plain": [
       "Mujer                       362687\n",
       "Hombre                      269839\n",
       "Intersex (Indeterminado)        36\n",
       "Desconocido                     19\n",
       "Name: Sexo_x, dtype: int64"
      ]
     },
     "execution_count": 25,
     "metadata": {},
     "output_type": "execute_result"
    },
    {
     "name": "stdout",
     "output_type": "stream",
     "text": [
      "Comuna\n"
     ]
    },
    {
     "data": {
      "text/plain": [
       "Viña del Mar     134167\n",
       "Quilpué           69078\n",
       "Villa Alemana     65151\n",
       "Quillota          58287\n",
       "Limache           48590\n",
       "Name: Comuna, dtype: int64"
      ]
     },
     "execution_count": 25,
     "metadata": {},
     "output_type": "execute_result"
    },
    {
     "name": "stdout",
     "output_type": "stream",
     "text": [
      "Prevision\n"
     ]
    },
    {
     "data": {
      "text/plain": [
       "FONASA                      558224\n",
       "PREVISION PROVISORIA         33929\n",
       "LEYES/PROGRAMAS SOCIALES     26366\n",
       "NaN                           5813\n",
       "ISAPRE                        5243\n",
       "Name: Prevision, dtype: int64"
      ]
     },
     "execution_count": 25,
     "metadata": {},
     "output_type": "execute_result"
    },
    {
     "name": "stdout",
     "output_type": "stream",
     "text": [
      "Plan\n"
     ]
    },
    {
     "data": {
      "text/plain": [
       "Grupo B    203208\n",
       "Grupo A    154152\n",
       "NaN         85969\n",
       "Grupo D     81814\n",
       "Grupo C     74364\n",
       "Name: Plan, dtype: int64"
      ]
     },
     "execution_count": 25,
     "metadata": {},
     "output_type": "execute_result"
    },
    {
     "name": "stdout",
     "output_type": "stream",
     "text": [
      "NumeroAtencionesAnteriores\n"
     ]
    },
    {
     "data": {
      "text/plain": [
       "0.0    68207\n",
       "1.0    62494\n",
       "2.0    58094\n",
       "3.0    52914\n",
       "4.0    47769\n",
       "Name: NumeroAtencionesAnteriores, dtype: int64"
      ]
     },
     "execution_count": 25,
     "metadata": {},
     "output_type": "execute_result"
    },
    {
     "data": {
      "text/html": [
       "<div>\n",
       "<style scoped>\n",
       "    .dataframe tbody tr th:only-of-type {\n",
       "        vertical-align: middle;\n",
       "    }\n",
       "\n",
       "    .dataframe tbody tr th {\n",
       "        vertical-align: top;\n",
       "    }\n",
       "\n",
       "    .dataframe thead th {\n",
       "        text-align: right;\n",
       "    }\n",
       "</style>\n",
       "<table border=\"1\" class=\"dataframe\">\n",
       "  <thead>\n",
       "    <tr style=\"text-align: right;\">\n",
       "      <th></th>\n",
       "      <th>ClasificacionConsulta</th>\n",
       "      <th>Origen_paciente</th>\n",
       "      <th>Arribo_paciente</th>\n",
       "      <th>LlegadaSAMU</th>\n",
       "      <th>Destino_paciente</th>\n",
       "      <th>AtInterrumpidaPor</th>\n",
       "      <th>CondicionAlCierre</th>\n",
       "      <th>Pronostico</th>\n",
       "      <th>Triage</th>\n",
       "      <th>Turno</th>\n",
       "    </tr>\n",
       "    <tr>\n",
       "      <th>NumeroEpisodio</th>\n",
       "      <th></th>\n",
       "      <th></th>\n",
       "      <th></th>\n",
       "      <th></th>\n",
       "      <th></th>\n",
       "      <th></th>\n",
       "      <th></th>\n",
       "      <th></th>\n",
       "      <th></th>\n",
       "      <th></th>\n",
       "    </tr>\n",
       "  </thead>\n",
       "  <tbody>\n",
       "    <tr>\n",
       "      <th>U0002625295</th>\n",
       "      <td>ATENCION MEDICA NIÑO Y ADULTO</td>\n",
       "      <td>Origen Espontáneo</td>\n",
       "      <td>Espontáneo</td>\n",
       "      <td>NaN</td>\n",
       "      <td>Alta domiciliaria</td>\n",
       "      <td>NaN</td>\n",
       "      <td>Vivo</td>\n",
       "      <td>Sin Lesiones</td>\n",
       "      <td>Triage 4</td>\n",
       "      <td>Turno II</td>\n",
       "    </tr>\n",
       "    <tr>\n",
       "      <th>U0002625301</th>\n",
       "      <td>ATENCION MEDICA NIÑO Y ADULTO</td>\n",
       "      <td>Origen Espontáneo</td>\n",
       "      <td>Espontáneo</td>\n",
       "      <td>NaN</td>\n",
       "      <td>Alta domiciliaria</td>\n",
       "      <td>NaN</td>\n",
       "      <td>Vivo</td>\n",
       "      <td>Sin Lesiones</td>\n",
       "      <td>Triage 4</td>\n",
       "      <td>Turno II</td>\n",
       "    </tr>\n",
       "    <tr>\n",
       "      <th>U0002625309</th>\n",
       "      <td>ATENCION MEDICA NIÑO Y ADULTO</td>\n",
       "      <td>Origen Espontáneo</td>\n",
       "      <td>Espontáneo</td>\n",
       "      <td>NaN</td>\n",
       "      <td>Alta domiciliaria</td>\n",
       "      <td>NaN</td>\n",
       "      <td>Vivo</td>\n",
       "      <td>Sin Lesiones</td>\n",
       "      <td>Triage 3</td>\n",
       "      <td>Turno II</td>\n",
       "    </tr>\n",
       "    <tr>\n",
       "      <th>U0002625318</th>\n",
       "      <td>ATENCION MEDICA NIÑO Y ADULTO</td>\n",
       "      <td>Origen Espontáneo</td>\n",
       "      <td>Policia</td>\n",
       "      <td>NaN</td>\n",
       "      <td>Traslado a otro centro</td>\n",
       "      <td>NaN</td>\n",
       "      <td>Vivo</td>\n",
       "      <td>Mediana Gravedad</td>\n",
       "      <td>Triage 3</td>\n",
       "      <td>Turno II</td>\n",
       "    </tr>\n",
       "    <tr>\n",
       "      <th>U0002625336</th>\n",
       "      <td>ATENCION MEDICA NIÑO Y ADULTO</td>\n",
       "      <td>Origen Espontáneo</td>\n",
       "      <td>Espontáneo</td>\n",
       "      <td>NaN</td>\n",
       "      <td>Alta domiciliaria</td>\n",
       "      <td>NaN</td>\n",
       "      <td>Vivo</td>\n",
       "      <td>Sin Lesiones</td>\n",
       "      <td>Triage 4</td>\n",
       "      <td>Turno II</td>\n",
       "    </tr>\n",
       "  </tbody>\n",
       "</table>\n",
       "</div>"
      ],
      "text/plain": [
       "                        ClasificacionConsulta    Origen_paciente  \\\n",
       "NumeroEpisodio                                                     \n",
       "U0002625295     ATENCION MEDICA NIÑO Y ADULTO  Origen Espontáneo   \n",
       "U0002625301     ATENCION MEDICA NIÑO Y ADULTO  Origen Espontáneo   \n",
       "U0002625309     ATENCION MEDICA NIÑO Y ADULTO  Origen Espontáneo   \n",
       "U0002625318     ATENCION MEDICA NIÑO Y ADULTO  Origen Espontáneo   \n",
       "U0002625336     ATENCION MEDICA NIÑO Y ADULTO  Origen Espontáneo   \n",
       "\n",
       "               Arribo_paciente LlegadaSAMU        Destino_paciente  \\\n",
       "NumeroEpisodio                                                       \n",
       "U0002625295         Espontáneo         NaN       Alta domiciliaria   \n",
       "U0002625301         Espontáneo         NaN       Alta domiciliaria   \n",
       "U0002625309         Espontáneo         NaN       Alta domiciliaria   \n",
       "U0002625318            Policia         NaN  Traslado a otro centro   \n",
       "U0002625336         Espontáneo         NaN       Alta domiciliaria   \n",
       "\n",
       "               AtInterrumpidaPor CondicionAlCierre        Pronostico  \\\n",
       "NumeroEpisodio                                                         \n",
       "U0002625295                  NaN              Vivo      Sin Lesiones   \n",
       "U0002625301                  NaN              Vivo      Sin Lesiones   \n",
       "U0002625309                  NaN              Vivo      Sin Lesiones   \n",
       "U0002625318                  NaN              Vivo  Mediana Gravedad   \n",
       "U0002625336                  NaN              Vivo      Sin Lesiones   \n",
       "\n",
       "                  Triage     Turno  \n",
       "NumeroEpisodio                      \n",
       "U0002625295     Triage 4  Turno II  \n",
       "U0002625301     Triage 4  Turno II  \n",
       "U0002625309     Triage 3  Turno II  \n",
       "U0002625318     Triage 3  Turno II  \n",
       "U0002625336     Triage 4  Turno II  "
      ]
     },
     "execution_count": 25,
     "metadata": {},
     "output_type": "execute_result"
    },
    {
     "name": "stdout",
     "output_type": "stream",
     "text": [
      "ClasificacionConsulta\n"
     ]
    },
    {
     "data": {
      "text/plain": [
       "ATENCION MEDICA NIÑO Y ADULTO      552858\n",
       "ATENCION MEDICA GINECO-OBSTETRA     44324\n",
       "DENTAL                              20713\n",
       "ATENCION POR MATRONA                14686\n",
       "Name: ClasificacionConsulta, dtype: int64"
      ]
     },
     "execution_count": 25,
     "metadata": {},
     "output_type": "execute_result"
    },
    {
     "name": "stdout",
     "output_type": "stream",
     "text": [
      "Origen_paciente\n"
     ]
    },
    {
     "data": {
      "text/plain": [
       "Origen Espontáneo          607611\n",
       "Referido centro público     16116\n",
       "Otro origen                  7606\n",
       "Referido centro privado      1246\n",
       "NaN                             2\n",
       "Name: Origen_paciente, dtype: int64"
      ]
     },
     "execution_count": 25,
     "metadata": {},
     "output_type": "execute_result"
    },
    {
     "name": "stdout",
     "output_type": "stream",
     "text": [
      "Arribo_paciente\n"
     ]
    },
    {
     "data": {
      "text/plain": [
       "Espontáneo    572896\n",
       "Ambulancia     42330\n",
       "Policia        17188\n",
       "NaN              167\n",
       "Name: Arribo_paciente, dtype: int64"
      ]
     },
     "execution_count": 25,
     "metadata": {},
     "output_type": "execute_result"
    },
    {
     "name": "stdout",
     "output_type": "stream",
     "text": [
      "LlegadaSAMU\n"
     ]
    },
    {
     "data": {
      "text/plain": [
       "NaN                     607494\n",
       "SAMU Básica M1           17862\n",
       "SAMU Avanzada M2          6929\n",
       "SAMU Medicalizada M3       296\n",
       "Name: LlegadaSAMU, dtype: int64"
      ]
     },
     "execution_count": 25,
     "metadata": {},
     "output_type": "execute_result"
    },
    {
     "name": "stdout",
     "output_type": "stream",
     "text": [
      "Destino_paciente\n"
     ]
    },
    {
     "data": {
      "text/plain": [
       "Alta domiciliaria         476585\n",
       "NaN                        72307\n",
       "Hospitalización            41223\n",
       "Traslado a otro centro     28609\n",
       "Policía                    13755\n",
       "Name: Destino_paciente, dtype: int64"
      ]
     },
     "execution_count": 25,
     "metadata": {},
     "output_type": "execute_result"
    },
    {
     "name": "stdout",
     "output_type": "stream",
     "text": [
      "AtInterrumpidaPor\n"
     ]
    },
    {
     "data": {
      "text/plain": [
       "NaN                                           552537\n",
       "Paciente no espera atención                    64441\n",
       "Administrativo y/o fuga del paciente            9890\n",
       "Paciente se Retira Bajo su Propio Riesgo        5564\n",
       "IC/Evaluación Serv. Urgencia Otro Hospital       148\n",
       "Name: AtInterrumpidaPor, dtype: int64"
      ]
     },
     "execution_count": 25,
     "metadata": {},
     "output_type": "execute_result"
    },
    {
     "name": "stdout",
     "output_type": "stream",
     "text": [
      "CondicionAlCierre\n"
     ]
    },
    {
     "data": {
      "text/plain": [
       "Vivo         631316\n",
       "Fallecido      1254\n",
       "NaN              11\n",
       "Name: CondicionAlCierre, dtype: int64"
      ]
     },
     "execution_count": 25,
     "metadata": {},
     "output_type": "execute_result"
    },
    {
     "name": "stdout",
     "output_type": "stream",
     "text": [
      "Pronostico\n"
     ]
    },
    {
     "data": {
      "text/plain": [
       "Sin Lesiones        312671\n",
       "Leve                207511\n",
       "NaN                  72593\n",
       "Mediana Gravedad     23211\n",
       "Grave                16595\n",
       "Name: Pronostico, dtype: int64"
      ]
     },
     "execution_count": 25,
     "metadata": {},
     "output_type": "execute_result"
    },
    {
     "name": "stdout",
     "output_type": "stream",
     "text": [
      "Triage\n"
     ]
    },
    {
     "data": {
      "text/plain": [
       "Triage 4    270772\n",
       "Triage 3    196482\n",
       "Triage 5     99287\n",
       "Triage 2     54473\n",
       "NaN          10300\n",
       "Name: Triage, dtype: int64"
      ]
     },
     "execution_count": 25,
     "metadata": {},
     "output_type": "execute_result"
    },
    {
     "name": "stdout",
     "output_type": "stream",
     "text": [
      "Turno\n"
     ]
    },
    {
     "data": {
      "text/plain": [
       "Turno IV     159436\n",
       "Turno II     158345\n",
       "Turno I      158207\n",
       "Turno III    156593\n",
       "Name: Turno, dtype: int64"
      ]
     },
     "execution_count": 25,
     "metadata": {},
     "output_type": "execute_result"
    }
   ],
   "source": [
    "BD[TSs].head()\n",
    "BD[DTs].head()\n",
    "\n",
    "BD[data_paciente].head()\n",
    "for cols in BD[data_paciente].columns:\n",
    "    print(cols)\n",
    "    BD[data_paciente][cols].value_counts(dropna = False).head()\n",
    "\n",
    "BD[data_atencion].head()\n",
    "for cols in BD[data_atencion].columns:\n",
    "    print(cols)\n",
    "    BD[data_atencion][cols].value_counts(dropna = False).head()"
   ]
  },
  {
   "cell_type": "markdown",
   "metadata": {},
   "source": [
    "de las listas previamente definidas, **TSs, DTs** (numeros) queda claro, pero **data_paciente** y  **data_atencion**debo describirlas para poder entender su comportamiento, específicamente de **data_atencion**:\n",
    "\n",
    "* ClasificacionConsulta: \n",
    "* LlegadaEn\n",
    "* 'ProcedenciaPaciente',\n",
    "* 'AtInterrumpidaPor'\n",
    "* 'DestinoAlta'\n",
    "* 'CondicionAlCierre'\n",
    "* 'Pronostico'\n",
    "* 'triage'\n",
    "* 'Turno'\n"
   ]
  },
  {
   "cell_type": "code",
   "execution_count": 26,
   "metadata": {
    "scrolled": true
   },
   "outputs": [
    {
     "name": "stdout",
     "output_type": "stream",
     "text": [
      "ClasificacionConsulta\n"
     ]
    },
    {
     "data": {
      "text/plain": [
       "ATENCION MEDICA NIÑO Y ADULTO      552858\n",
       "ATENCION MEDICA GINECO-OBSTETRA     44324\n",
       "DENTAL                              20713\n",
       "ATENCION POR MATRONA                14686\n",
       "Name: ClasificacionConsulta, dtype: int64"
      ]
     },
     "execution_count": 26,
     "metadata": {},
     "output_type": "execute_result"
    },
    {
     "name": "stdout",
     "output_type": "stream",
     "text": [
      "Origen_paciente\n"
     ]
    },
    {
     "data": {
      "text/plain": [
       "Origen Espontáneo          607611\n",
       "Referido centro público     16116\n",
       "Otro origen                  7606\n",
       "Referido centro privado      1246\n",
       "Name: Origen_paciente, dtype: int64"
      ]
     },
     "execution_count": 26,
     "metadata": {},
     "output_type": "execute_result"
    },
    {
     "name": "stdout",
     "output_type": "stream",
     "text": [
      "Arribo_paciente\n"
     ]
    },
    {
     "data": {
      "text/plain": [
       "Espontáneo    572896\n",
       "Ambulancia     42330\n",
       "Policia        17188\n",
       "Name: Arribo_paciente, dtype: int64"
      ]
     },
     "execution_count": 26,
     "metadata": {},
     "output_type": "execute_result"
    },
    {
     "name": "stdout",
     "output_type": "stream",
     "text": [
      "LlegadaSAMU\n"
     ]
    },
    {
     "data": {
      "text/plain": [
       "SAMU Básica M1          17862\n",
       "SAMU Avanzada M2         6929\n",
       "SAMU Medicalizada M3      296\n",
       "Name: LlegadaSAMU, dtype: int64"
      ]
     },
     "execution_count": 26,
     "metadata": {},
     "output_type": "execute_result"
    },
    {
     "name": "stdout",
     "output_type": "stream",
     "text": [
      "Destino_paciente\n"
     ]
    },
    {
     "data": {
      "text/plain": [
       "Alta domiciliaria         476585\n",
       "Hospitalización            41223\n",
       "Traslado a otro centro     28609\n",
       "Policía                    13755\n",
       "Anatomía Patológica          102\n",
       "Name: Destino_paciente, dtype: int64"
      ]
     },
     "execution_count": 26,
     "metadata": {},
     "output_type": "execute_result"
    },
    {
     "name": "stdout",
     "output_type": "stream",
     "text": [
      "AtInterrumpidaPor\n"
     ]
    },
    {
     "data": {
      "text/plain": [
       "Paciente no espera atención                   64441\n",
       "Administrativo y/o fuga del paciente           9890\n",
       "Paciente se Retira Bajo su Propio Riesgo       5564\n",
       "IC/Evaluación Serv. Urgencia Otro Hospital      148\n",
       "Alta Administrativa                               1\n",
       "Name: AtInterrumpidaPor, dtype: int64"
      ]
     },
     "execution_count": 26,
     "metadata": {},
     "output_type": "execute_result"
    },
    {
     "name": "stdout",
     "output_type": "stream",
     "text": [
      "CondicionAlCierre\n"
     ]
    },
    {
     "data": {
      "text/plain": [
       "Vivo         631316\n",
       "Fallecido      1254\n",
       "Name: CondicionAlCierre, dtype: int64"
      ]
     },
     "execution_count": 26,
     "metadata": {},
     "output_type": "execute_result"
    },
    {
     "name": "stdout",
     "output_type": "stream",
     "text": [
      "Pronostico\n"
     ]
    },
    {
     "data": {
      "text/plain": [
       "Sin Lesiones        312671\n",
       "Leve                207511\n",
       "Mediana Gravedad     23211\n",
       "Grave                16595\n",
       "Name: Pronostico, dtype: int64"
      ]
     },
     "execution_count": 26,
     "metadata": {},
     "output_type": "execute_result"
    },
    {
     "name": "stdout",
     "output_type": "stream",
     "text": [
      "Triage\n"
     ]
    },
    {
     "data": {
      "text/plain": [
       "Triage 4    270772\n",
       "Triage 3    196482\n",
       "Triage 5     99287\n",
       "Triage 2     54473\n",
       "Triage 1      1267\n",
       "Name: Triage, dtype: int64"
      ]
     },
     "execution_count": 26,
     "metadata": {},
     "output_type": "execute_result"
    },
    {
     "name": "stdout",
     "output_type": "stream",
     "text": [
      "Turno\n"
     ]
    },
    {
     "data": {
      "text/plain": [
       "Turno IV     159436\n",
       "Turno II     158345\n",
       "Turno I      158207\n",
       "Turno III    156593\n",
       "Name: Turno, dtype: int64"
      ]
     },
     "execution_count": 26,
     "metadata": {},
     "output_type": "execute_result"
    }
   ],
   "source": [
    "for cols in BD[data_atencion].columns:\n",
    "    print(cols)\n",
    "    BD[data_atencion][cols].value_counts()"
   ]
  },
  {
   "cell_type": "code",
   "execution_count": 27,
   "metadata": {
    "collapsed": true
   },
   "outputs": [],
   "source": [
    "BD.loc[(BD.LlegadaEn == 'Locomoción Colectiva') |\n",
    "\t\t\t\t(BD.LlegadaEn == 'A Pie') |\n",
    "\t\t\t\t(BD.LlegadaEn == 'Vehículo Particular'),\n",
    "\t\t\t\t'Arribo' \n",
    "\t\t\t\t] = 'Espontáneo'\n",
    "\n",
    "BD.loc[(BD.LlegadaEn == 'Vehículo Policial'),\n",
    "\t\t\t\t'Arribo' \n",
    "\t\t\t\t] = 'Policia'\n",
    "\n",
    "BD.loc[(BD.LlegadaEn == 'SAMU Básica (M1)') |\n",
    "\t\t\t\t(BD.LlegadaEn == 'SAMU Avanzada (M2)') |\n",
    "\t\t\t\t(BD.LlegadaEn == 'SAMU Medicalizada (M3)') |\n",
    "\t\t\t\t(BD.LlegadaEn == 'Otra Ambulancia Básica') |\n",
    "\t\t\t\t(BD.LlegadaEn == 'Otra Ambulancia Avanzada') |\n",
    "\t\t\t\t(BD.LlegadaEn == 'Otra Ambulancia Medicalizada') ,\n",
    "\t\t\t\t'Arribo'\n",
    "\t\t\t\t] = 'Ambulancia'\n",
    "\n",
    "BD.loc[(BD.LlegadaEn == 'SAMU Básica (M1)') ,\n",
    "\t\t\t\t'LlegadaSAMU'\n",
    "\t\t\t\t] = 'SAMU Básica M1'\n",
    "\n",
    "BD.loc[(BD.LlegadaEn == 'SAMU Avanzada (M2)') ,\n",
    "\t\t\t\t'LlegadaSAMU'\n",
    "\t\t\t\t] = 'SAMU Avanzada M2'\n",
    "\n",
    "BD.loc[(BD.LlegadaEn == 'SAMU Medicalizada (M3)') ,\n",
    "\t\t\t\t'LlegadaSAMU'\n",
    "\t\t\t\t] = 'SAMU Medicalizada M3'"
   ]
  },
  {
   "cell_type": "markdown",
   "metadata": {},
   "source": [
    "# Descripción general del SSVQ"
   ]
  },
  {
   "cell_type": "markdown",
   "metadata": {},
   "source": [
    "Población asignada"
   ]
  },
  {
   "cell_type": "code",
   "execution_count": 28,
   "metadata": {
    "scrolled": false
   },
   "outputs": [
    {
     "data": {
      "text/plain": [
       "1050338.0"
      ]
     },
     "execution_count": 28,
     "metadata": {},
     "output_type": "execute_result"
    }
   ],
   "source": [
    "BD_infohosp.Poblacion.sum()"
   ]
  },
  {
   "cell_type": "code",
   "execution_count": 29,
   "metadata": {},
   "outputs": [
    {
     "data": {
      "text/plain": [
       "Index(['Establecimiento', 'RutPaciente', 'Edad', 'Sexo_x', 'Comuna',\n",
       "       'Provincia', 'MotivoConsulta', 'Prevision', 'Telefono', 'Direccion',\n",
       "       'Nombre', 'Apellido Paterno', 'Apellido Materno', 'Fecha Nacimiento',\n",
       "       'Plan', 'Condición de Urgencia', 'ClasificacionConsulta',\n",
       "       'TipoAccidente', 'NumeroAtencionesAnteriores', 'DiagnosticoPrincipal',\n",
       "       'OtrosDiagnosticos', 'LlegadaEn', 'ProcedenciaPaciente',\n",
       "       'Origen_paciente', 'Arribo_paciente', 'LlegadaSAMU', 'Destino_paciente',\n",
       "       'AtInterrumpidaPor', 'AtendidoPor', 'DestinoAlta', 'CondicionAlCierre',\n",
       "       'Pronostico', 'Categorizacion', 'AtencionEnfermeria', 'Local',\n",
       "       'TS_ingreso', 'TS_triage', 'TS_atencion', 'TS_cierremedico',\n",
       "       'TS_egreso', 'DT_EsperaCategorizacion', 'DT_EsperaMD', 'DT_AtencionMD',\n",
       "       'DT_definicionPAC', 'DT_Espera_CierreAdm', 'DT_Total', 'Triage',\n",
       "       'Turno', 'Arribo'],\n",
       "      dtype='object')"
      ]
     },
     "execution_count": 29,
     "metadata": {},
     "output_type": "execute_result"
    }
   ],
   "source": [
    "BD.columns"
   ]
  },
  {
   "cell_type": "markdown",
   "metadata": {},
   "source": [
    "descripción de rango del estudio de tiempo y població nasignada. una tabla resumen con los hospitales"
   ]
  },
  {
   "cell_type": "code",
   "execution_count": 30,
   "metadata": {
    "scrolled": false
   },
   "outputs": [
    {
     "data": {
      "text/plain": [
       "'./script_resultados/01SS_01descripcion_01.py'"
      ]
     },
     "execution_count": 30,
     "metadata": {},
     "output_type": "execute_result"
    },
    {
     "name": "stdout",
     "output_type": "stream",
     "text": [
      "texto_H_petorca.txt\n"
     ]
    },
    {
     "data": {
      "image/png": "[encoded data removed]",
      "text/plain": [
       "<Figure size 648x576 with 1 Axes>"
      ]
     },
     "metadata": {},
     "output_type": "display_data"
    },
    {
     "data": {
      "text/plain": [
       "<Figure size 432x288 with 0 Axes>"
      ]
     },
     "metadata": {},
     "output_type": "display_data"
    },
    {
     "data": {
      "image/png": "[encoded data removed]",
      "text/plain": [
       "<Figure size 648x576 with 1 Axes>"
      ]
     },
     "metadata": {},
     "output_type": "display_data"
    },
    {
     "data": {
      "text/plain": [
       "<Figure size 432x288 with 0 Axes>"
      ]
     },
     "metadata": {},
     "output_type": "display_data"
    },
    {
     "data": {
      "image/png": "[encoded data removed]",
      "text/plain": [
       "<Figure size 648x432 with 1 Axes>"
      ]
     },
     "metadata": {},
     "output_type": "display_data"
    },
    {
     "data": {
      "text/plain": [
       "<Figure size 432x288 with 0 Axes>"
      ]
     },
     "metadata": {},
     "output_type": "display_data"
    },
    {
     "data": {
      "image/png": "[encoded data removed]",
      "text/plain": [
       "<Figure size 720x360 with 1 Axes>"
      ]
     },
     "metadata": {},
     "output_type": "display_data"
    },
    {
     "name": "stderr",
     "output_type": "stream",
     "text": [
      "/home/egidio/anaconda3/lib/python3.6/site-packages/ipykernel_launcher.py:270: FutureWarning: 'select' is deprecated and will be removed in a future release. You can use .loc[labels.map(crit)] as a replacement\n"
     ]
    },
    {
     "data": {
      "text/plain": [
       "<Figure size 432x288 with 0 Axes>"
      ]
     },
     "metadata": {},
     "output_type": "display_data"
    }
   ],
   "source": [
    "ruta             = './resultados/01SS/'\n",
    "Nombre_archivo   =  '1SS_01PAC_01'\n",
    "\n",
    "carpeta_script   ='./script_resultados/'\n",
    "nombre_script    = '01SS_01descripcion_01.py'\n",
    "\n",
    "archivo_exportar = ruta + Nombre_archivo               \n",
    "ruta_script      = carpeta_script + nombre_script\n",
    "ruta_script\n",
    "exec(open(ruta_script).read())\n"
   ]
  },
  {
   "cell_type": "code",
   "execution_count": 31,
   "metadata": {
    "scrolled": false
   },
   "outputs": [
    {
     "data": {
      "text/plain": [
       "Index(['Establecimiento', 'RutPaciente', 'Edad', 'Sexo_x', 'Comuna',\n",
       "       'Provincia', 'MotivoConsulta', 'Prevision', 'Telefono', 'Direccion',\n",
       "       'Nombre', 'Apellido Paterno', 'Apellido Materno', 'Fecha Nacimiento',\n",
       "       'Plan', 'Condición de Urgencia', 'ClasificacionConsulta',\n",
       "       'TipoAccidente', 'NumeroAtencionesAnteriores', 'DiagnosticoPrincipal',\n",
       "       'OtrosDiagnosticos', 'LlegadaEn', 'ProcedenciaPaciente',\n",
       "       'Origen_paciente', 'Arribo_paciente', 'LlegadaSAMU', 'Destino_paciente',\n",
       "       'AtInterrumpidaPor', 'AtendidoPor', 'DestinoAlta', 'CondicionAlCierre',\n",
       "       'Pronostico', 'Categorizacion', 'AtencionEnfermeria', 'Local',\n",
       "       'TS_ingreso', 'TS_triage', 'TS_atencion', 'TS_cierremedico',\n",
       "       'TS_egreso', 'DT_EsperaCategorizacion', 'DT_EsperaMD', 'DT_AtencionMD',\n",
       "       'DT_definicionPAC', 'DT_Espera_CierreAdm', 'DT_Total', 'Triage',\n",
       "       'Turno', 'Arribo'],\n",
       "      dtype='object')"
      ]
     },
     "execution_count": 31,
     "metadata": {},
     "output_type": "execute_result"
    }
   ],
   "source": [
    "BD.columns"
   ]
  },
  {
   "cell_type": "markdown",
   "metadata": {
    "collapsed": true,
    "scrolled": false
   },
   "source": [
    "# Descriptor de cada Hospital"
   ]
  },
  {
   "cell_type": "code",
   "execution_count": 32,
   "metadata": {
    "scrolled": true
   },
   "outputs": [
    {
     "data": {
      "text/plain": [
       "Index(['Establecimiento', 'RutPaciente', 'Edad', 'Sexo_x', 'Comuna',\n",
       "       'Provincia', 'MotivoConsulta', 'Prevision', 'Telefono', 'Direccion',\n",
       "       'Nombre', 'Apellido Paterno', 'Apellido Materno', 'Fecha Nacimiento',\n",
       "       'Plan', 'Condición de Urgencia', 'ClasificacionConsulta',\n",
       "       'TipoAccidente', 'NumeroAtencionesAnteriores', 'DiagnosticoPrincipal',\n",
       "       'OtrosDiagnosticos', 'LlegadaEn', 'ProcedenciaPaciente',\n",
       "       'Origen_paciente', 'Arribo_paciente', 'LlegadaSAMU', 'Destino_paciente',\n",
       "       'AtInterrumpidaPor', 'AtendidoPor', 'DestinoAlta', 'CondicionAlCierre',\n",
       "       'Pronostico', 'Categorizacion', 'AtencionEnfermeria', 'Local',\n",
       "       'TS_ingreso', 'TS_triage', 'TS_atencion', 'TS_cierremedico',\n",
       "       'TS_egreso', 'DT_EsperaCategorizacion', 'DT_EsperaMD', 'DT_AtencionMD',\n",
       "       'DT_definicionPAC', 'DT_Espera_CierreAdm', 'DT_Total', 'Triage',\n",
       "       'Turno', 'Arribo'],\n",
       "      dtype='object')"
      ]
     },
     "execution_count": 32,
     "metadata": {},
     "output_type": "execute_result"
    }
   ],
   "source": [
    "BD.columns"
   ]
  },
  {
   "cell_type": "markdown",
   "metadata": {},
   "source": [
    "El siguiente es un script (por ser muy largo lo dejo como archivo a llamar y ejecutar).\n",
    "El resultado es el 1er parrafo de la descripción de los hospitales que contiene descripción de:\n",
    "* la cantidad de atenciones\n",
    "* ditribución de edad (con histograma)\n",
    "* sexo\n"
   ]
  },
  {
   "cell_type": "code",
   "execution_count": 33,
   "metadata": {
    "scrolled": true
   },
   "outputs": [
    {
     "name": "stdout",
     "output_type": "stream",
     "text": [
      "HGF\n",
      "H_quillota\n",
      "H_petorca\n",
      "H_cabildo\n",
      "H_quintero\n",
      "H_ligua\n",
      "H_calera\n",
      "H_quilpue\n",
      "H_penablanca\n",
      "H_limache\n",
      "-------------------------- \n",
      "     ARCHIVOS:  \n",
      "./resultados/02Hospitales/2HOSP_01PAC_01texto_H_limache.txt\n",
      "./resultados/02Hospitales/2HOSP_01PAC_01ima_caption_H_limache.caption\n",
      "Resultado: (por hospital): \n",
      " grafico con histograma de edad \n",
      "   analisis del n de consultas con n y %\n",
      "   metricas de edad y división >y< a 15a\n",
      "   distribución por sexo\n"
     ]
    },
    {
     "data": {
      "text/plain": [
       "<Figure size 432x288 with 0 Axes>"
      ]
     },
     "metadata": {},
     "output_type": "display_data"
    }
   ],
   "source": [
    "ruta             = './resultados/02Hospitales/'\n",
    "Nombre_archivo   =  '2HOSP_01PAC_01'\n",
    "\n",
    "carpeta_script   ='./script_resultados/'\n",
    "nombre_script    = '02Hosp_01descripcion_01.py'\n",
    "\n",
    "archivo_exportar = ruta + Nombre_archivo               \n",
    "ruta_script      = carpeta_script + nombre_script\n",
    "exec(open(ruta_script).read())\n",
    "#print(open('./script_resultados/02Hosp_01descripcion_01.py').read())"
   ]
  },
  {
   "cell_type": "markdown",
   "metadata": {},
   "source": [
    "El siguiente es un script (por ser muy largo lo dejo como archivo a llamar y ejecutar).\n",
    "\n",
    "El resultado es el 2do parrafo de la descripción de los hospitales que contiene:\n",
    "* previsión\n",
    "* comuna\n",
    "* a que va a atendenderse "
   ]
  },
  {
   "cell_type": "code",
   "execution_count": 34,
   "metadata": {
    "scrolled": true
   },
   "outputs": [
    {
     "data": {
      "text/plain": [
       "'./script_resultados/02Hosp_01descripcion_02.py'"
      ]
     },
     "execution_count": 34,
     "metadata": {},
     "output_type": "execute_result"
    },
    {
     "name": "stdout",
     "output_type": "stream",
     "text": [
      "Ruta:        ./resultados/02Hospitales/\n",
      "texto_HGF.txt\n",
      "texto_H_quillota.txt\n",
      "texto_H_petorca.txt\n",
      "texto_H_cabildo.txt\n",
      "texto_H_quintero.txt\n",
      "texto_H_ligua.txt\n",
      "texto_H_calera.txt\n",
      "texto_H_quilpue.txt\n",
      "texto_H_penablanca.txt\n",
      "texto_H_limache.txt\n"
     ]
    }
   ],
   "source": [
    "ruta             = './resultados/02Hospitales/'\n",
    "Nombre_archivo   =  '2HOSP_01PAC_02'\n",
    "\n",
    "carpeta_script   ='./script_resultados/'\n",
    "nombre_script    = '02Hosp_01descripcion_02.py'\n",
    "\n",
    "archivo_exportar = ruta + Nombre_archivo               \n",
    "ruta_script      = carpeta_script + nombre_script\n",
    "ruta_script\n",
    "exec(open(ruta_script).read())\n",
    "#print(open('./resultados/02Hospitales/2HOSP_01PAC_02tabla01_HGF.tabla').read())\n"
   ]
  },
  {
   "cell_type": "markdown",
   "metadata": {},
   "source": [
    "el siguiente es un script que"
   ]
  },
  {
   "cell_type": "code",
   "execution_count": 35,
   "metadata": {
    "scrolled": true
   },
   "outputs": [
    {
     "data": {
      "text/plain": [
       "'./script_resultados/02Hosp_01descripcion_03.py'"
      ]
     },
     "execution_count": 35,
     "metadata": {},
     "output_type": "execute_result"
    },
    {
     "name": "stdout",
     "output_type": "stream",
     "text": [
      "Ruta:        ./resultados/02Hospitales/\n",
      "texto_HGF.txt\n",
      "texto_H_quillota.txt\n",
      "texto_H_petorca.txt\n",
      "texto_H_cabildo.txt\n",
      "texto_H_quintero.txt\n",
      "texto_H_ligua.txt\n",
      "texto_H_calera.txt\n",
      "texto_H_quilpue.txt\n",
      "texto_H_penablanca.txt\n",
      "texto_H_limache.txt\n"
     ]
    }
   ],
   "source": [
    "ruta             = './resultados/02Hospitales/'\n",
    "Nombre_archivo   =  '2HOSP_01PAC_03'\n",
    "\n",
    "carpeta_script   ='./script_resultados/'\n",
    "nombre_script    = '02Hosp_01descripcion_03.py'\n",
    "\n",
    "archivo_exportar = ruta + Nombre_archivo               \n",
    "ruta_script      = carpeta_script + nombre_script\n",
    "ruta_script\n",
    "exec(open(ruta_script).read())\n",
    "\n",
    "\n"
   ]
  },
  {
   "cell_type": "code",
   "execution_count": 36,
   "metadata": {},
   "outputs": [
    {
     "data": {
      "text/plain": [
       "28"
      ]
     },
     "execution_count": 36,
     "metadata": {},
     "output_type": "execute_result"
    },
    {
     "ename": "NameError",
     "evalue": "name 'a_redondear' is not defined",
     "output_type": "error",
     "traceback": [
      "\u001b[0;31m---------------------------------------------------------------------------\u001b[0m",
      "\u001b[0;31mNameError\u001b[0m                                 Traceback (most recent call last)",
      "\u001b[0;32m<ipython-input-36-cf0bd52e729c>\u001b[0m in \u001b[0;36m<module>\u001b[0;34m()\u001b[0m\n\u001b[1;32m      1\u001b[0m \u001b[0mhosp_en_curso\u001b[0m\u001b[0;34m.\u001b[0m\u001b[0mCondicionAlCierre\u001b[0m\u001b[0;34m.\u001b[0m\u001b[0mvalue_counts\u001b[0m\u001b[0;34m(\u001b[0m\u001b[0;34m)\u001b[0m\u001b[0;34m[\u001b[0m\u001b[0;36m1\u001b[0m\u001b[0;34m]\u001b[0m\u001b[0;34m\u001b[0m\u001b[0m\n\u001b[0;32m----> 2\u001b[0;31m \u001b[0ma_redondear\u001b[0m\u001b[0;34m\u001b[0m\u001b[0m\n\u001b[0m",
      "\u001b[0;31mNameError\u001b[0m: name 'a_redondear' is not defined"
     ]
    }
   ],
   "source": [
    "hosp_en_curso.CondicionAlCierre.value_counts()[1]\n",
    "a_redondear"
   ]
  },
  {
   "cell_type": "code",
   "execution_count": null,
   "metadata": {},
   "outputs": [],
   "source": [
    "texto           = 'Hubo {} ({}%) pancientes que fallecieron en la unidad de \\\n",
    "emergencias. '.format(\n",
    "    hosp_en_curso.CondicionAlCierre.value_counts()[1],\n",
    "    round(hosp_en_curso.CondicionAlCierre.value_counts()[1]/\n",
    "    hosp_en_curso.CondicionAlCierre.value_counts().sum(),4)\n",
    ")\n",
    "texto"
   ]
  },
  {
   "cell_type": "code",
   "execution_count": null,
   "metadata": {
    "scrolled": true
   },
   "outputs": [],
   "source": [
    "ruta             = './resultados/02Hospitales/'\n",
    "Nombre_archivo   =  '2HOSP_01PAC_04'\n",
    "\n",
    "carpeta_script   ='./script_resultados/'\n",
    "nombre_script    = '02Hosp_01descripcion_04.py'\n",
    "\n",
    "archivo_exportar = ruta + Nombre_archivo               \n",
    "ruta_script      = carpeta_script + nombre_script\n",
    "ruta_script\n",
    "exec(open(ruta_script).read())\n",
    "print((open(archivo_exportar + 'texto_HGF.txt').read()))"
   ]
  },
  {
   "cell_type": "code",
   "execution_count": null,
   "metadata": {
    "scrolled": true
   },
   "outputs": [],
   "source": [
    "dum_segs = BD.copy()\n",
    "dum_segs[DTs] = dum_segs[DTs].applymap(lambda s: s.total_seconds()/60)"
   ]
  },
  {
   "cell_type": "code",
   "execution_count": null,
   "metadata": {},
   "outputs": [],
   "source": [
    "\n"
   ]
  },
  {
   "cell_type": "code",
   "execution_count": null,
   "metadata": {
    "scrolled": true
   },
   "outputs": [],
   "source": [
    "docs = dum_segs\n",
    "total ={}\n",
    "for x in ['Triage 1', 'Triage 2', 'Triage 3', 'Triage 4', 'Triage 5']:\n",
    "    doc = docs.loc[docs.Triage == x]\n",
    "    DT_EsperaMD = {}\n",
    "    for n in range(5,130,5):\n",
    "        DT_EsperaMD[str(n)] = (doc.DT_EsperaMD>n).value_counts(normalize=True)[0]*100\n",
    "    print(x)\n",
    "    total[x] = DT_EsperaMD\n",
    "\n",
    "#total\n",
    "cumlimiento = pd.DataFrame.from_dict(total)\n"
   ]
  },
  {
   "cell_type": "code",
   "execution_count": null,
   "metadata": {
    "scrolled": true
   },
   "outputs": [],
   "source": [
    "dum = cumlimiento.reset_index()#.set_index('index')\n",
    "dum['index'] = dum['index'].astype(str).astype(int)\n",
    "dum = dum.set_index('index')\n",
    "dum.sort_index().plot(figsize= (8,6))\n",
    "plt.xlabel('Tiempo en minutos')\n",
    "plt.ylabel('% pacientes atendidos')\n",
    "plt.title('Porcentaje de pacientes atendidos antes de \\n distintos tiempos')\n",
    "dum.sort_index()\n"
   ]
  },
  {
   "cell_type": "code",
   "execution_count": null,
   "metadata": {},
   "outputs": [],
   "source": [
    "todos3 = sidra.groupby(['Triage'])['DT_EsperaMD'].count()\n",
    "cumplidos3 = sidra[\n",
    "    ((sidra['DT_EsperaMD'].dt.total_seconds()/60)<31) ].groupby(['Triage'])['DT_EsperaMD'].size()\n",
    "todos3\n",
    "cumplidos3"
   ]
  },
  {
   "cell_type": "code",
   "execution_count": null,
   "metadata": {},
   "outputs": [],
   "source": [
    "\n",
    "hosp_en_curso.groupby(\n",
    "    [hosp_en_curso.TS_ingreso.dt.hour, 'Triage'])['Establecimiento'].count().unstack().plot(\n",
    "    figsize = (7,5))\n",
    "plt.title('Cantidad de atenciones por hora en el \\n '+ infohospitales[hosp]['Nombre'] +\n",
    "' según categorizacón' )\n",
    "plt.xlabel('Hora del día')"
   ]
  },
  {
   "cell_type": "code",
   "execution_count": null,
   "metadata": {
    "collapsed": true
   },
   "outputs": [],
   "source": []
  },
  {
   "cell_type": "code",
   "execution_count": null,
   "metadata": {
    "collapsed": true
   },
   "outputs": [],
   "source": []
  },
  {
   "cell_type": "code",
   "execution_count": null,
   "metadata": {
    "collapsed": true
   },
   "outputs": [],
   "source": []
  }
 ],
 "metadata": {
  "kernelspec": {
   "display_name": "Python 3",
   "language": "python",
   "name": "python3"
  },
  "language_info": {
   "codemirror_mode": {
    "name": "ipython",
    "version": 3
   },
   "file_extension": ".py",
   "mimetype": "text/x-python",
   "name": "python",
   "nbconvert_exporter": "python",
   "pygments_lexer": "ipython3",
   "version": "3.6.3"
  }
 },
 "nbformat": 4,
 "nbformat_minor": 2
}
