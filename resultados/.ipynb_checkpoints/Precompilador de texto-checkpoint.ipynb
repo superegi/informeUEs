{
 "cells": [
  {
   "cell_type": "markdown",
   "metadata": {},
   "source": [
    "# Precompilador de texto, tablas e imágenes previo a Latex"
   ]
  },
  {
   "cell_type": "code",
   "execution_count": 1,
   "metadata": {},
   "outputs": [
    {
     "name": "stderr",
     "output_type": "stream",
     "text": [
      "/home/egidio/anaconda3/lib/python3.6/site-packages/statsmodels/compat/pandas.py:56: FutureWarning: The pandas.core.datetools module is deprecated and will be removed in a future version. Please use the pandas.tseries module instead.\n",
      "  from pandas.core import datetools\n"
     ]
    }
   ],
   "source": [
    "import pandas as pd\n",
    "import numpy as np\n",
    "import matplotlib.pyplot as plt\n",
    "import scipy \n",
    "from scipy import stats\n",
    "import statsmodels.api as sm\n",
    "from statsmodels.formula.api import ols\n",
    "import datetime as dt\n",
    "import datetime\n",
    "from datetime import timedelta  \n",
    "import timeboard as tb # turnos \n",
    "\n",
    "\n",
    "import os\n",
    "from pyexcel_ods import get_data\n",
    "from matplotlib_venn import venn3\n",
    "from matplotlib_venn import venn2, venn2_circles\n",
    "import math\n",
    "\n",
    "from IPython.core.interactiveshell import InteractiveShell\n",
    "InteractiveShell.ast_node_interactivity = \"all\"\n",
    "%matplotlib inline"
   ]
  },
  {
   "cell_type": "markdown",
   "metadata": {},
   "source": [
    "# Archivos en la carpeta"
   ]
  },
  {
   "cell_type": "code",
   "execution_count": 2,
   "metadata": {},
   "outputs": [
    {
     "data": {
      "text/plain": [
       "['./01Descrip_03cap01.cap',\n",
       " './01Descrip_02tab01.tab',\n",
       " './Precompilador de texto.ipynb',\n",
       " './01Descrip_01_tex01.txt',\n",
       " './.ipynb_checkpoints/Precompilador de texto-checkpoint.ipynb']"
      ]
     },
     "execution_count": 2,
     "metadata": {},
     "output_type": "execute_result"
    }
   ],
   "source": [
    "lista_archivos = []\n",
    "for dirname, dirnames, filenames in os.walk('./'):\n",
    "    for filename in filenames:\n",
    "        lista_archivos.append(os.path.join(dirname, filename))\n",
    "archivos = lista_archivos\n",
    "archivos\n"
   ]
  },
  {
   "cell_type": "code",
   "execution_count": 3,
   "metadata": {
    "collapsed": true
   },
   "outputs": [],
   "source": [
    "def cargar_asignar_leer(direccion):\n",
    "    var = open(direccion,'r')\n",
    "    return var.read()"
   ]
  },
  {
   "cell_type": "markdown",
   "metadata": {},
   "source": [
    "# Nombre de ciertas cadenas de texto que se usarán usualmente"
   ]
  },
  {
   "cell_type": "code",
   "execution_count": null,
   "metadata": {},
   "outputs": [],
   "source": []
  },
  {
   "cell_type": "code",
   "execution_count": null,
   "metadata": {
    "collapsed": true
   },
   "outputs": [],
   "source": []
  },
  {
   "cell_type": "markdown",
   "metadata": {},
   "source": [
    "# Cominzo a crear el texto"
   ]
  },
  {
   "cell_type": "code",
   "execution_count": 59,
   "metadata": {
    "scrolled": false
   },
   "outputs": [
    {
     "name": "stdout",
     "output_type": "stream",
     "text": [
      "\n",
      "Se analizó desde el 2018-01-01 00:03:00 al 2018-12-30 23:57:00, lo que corresponde 363 días. La población analizada fue la correspondiente al Servicio de Salud Viña del Mar Quillota, que según el censo del INE del año 2017 por comuna fue de 1050338.0 personas. La cantidad de atenciones, la población asignada y la cantidad de atenciones por 100000 habitantes se encuentra en la tabla adjunta.\n",
      "\n",
      "\\begin{table}[H] \n",
      " \\centering \n",
      "\\begin{tabular}{rccc}\n",
      "\\toprule\n",
      "{} &  Atenciones & Poblacion & Atenciones por 10000 habitantes \\\\\n",
      "\\textbf{Hospital                 } &             &           &                                 \\\\\n",
      "\\midrule\n",
      "\\textbf{Hospital de Petorca      } &       12083 &      9826 &                          122.97 \\\\\n",
      "\\textbf{Hospital de Cabildo      } &       27419 &     19388 &                         141.423 \\\\\n",
      "\\textbf{Hospital de Villa Alemana} &       39700 &    126548 &                         31.3715 \\\\\n",
      "\\textbf{Hospital de La Ligua     } &       45079 &     49085 &                         91.8386 \\\\\n",
      "\\textbf{Hospital de Quilpué      } &       47861 &    151708 &                         31.5481 \\\\\n",
      "\\textbf{Hospital de Limache      } &       48302 &     63637 &                         75.9024 \\\\\n",
      "\\textbf{Hospital de Calera       } &       50889 &     90662 &                         56.1305 \\\\\n",
      "\\textbf{Hospital de Quillota     } &       51957 &    112615 &                         46.1368 \\\\\n",
      "\\textbf{Hospital de Quintero     } &       55908 &     50469 &                         110.777 \\\\\n",
      "\\textbf{Hospital de Viña         } &      100406 &    376400 &                         26.6753 \\\\\n",
      "\\bottomrule\n",
      "\\end{tabular}\n",
      "\n",
      "\n",
      "\\caption{Atenciones en unidades de urgencia de los hospitales del SSVQ entre el 2018-01-01 00:03:00 y 2018-12-30 23:57:00. Se muestra también la población asignada y las atenciones por 100000 habitantes.\n",
      "}   \\end{table}\n",
      "\n"
     ]
    }
   ],
   "source": [
    "Descripicion = {}\n",
    "Descripicion['01_descrip01']     = open('./01Descrip_01_tex01.txt').read()\n",
    "Descripicion['01Descrip_tab01']     =  '\\\\begin{table}[H] \\n \\centering \\n' + open('./01Descrip_02tab01.tab').read()\n",
    "Descripicion['01Descrip_03cap01']     =  '\\caption{' + open('./01Descrip_03cap01.cap').read() + '}   \\end{table}'\n",
    "\n",
    "######################################################\n",
    "nombre_archivo = './consolidado/' + '01.tx'         ##\n",
    "print( '', file= open(nombre_archivo, 'w'))         ##\n",
    "for corr in Descripicion.keys():                    ## \n",
    "    print(Descripicion[corr],                       ##\n",
    "         file = open(nombre_archivo, 'a'))          ##\n",
    "print(open(nombre_archivo, 'r').read())             ##"
   ]
  },
  {
   "cell_type": "code",
   "execution_count": 46,
   "metadata": {
    "scrolled": false
   },
   "outputs": [
    {
     "name": "stdout",
     "output_type": "stream",
     "text": [
      "\n",
      "Se analizó desde el 2018-01-01 00:03:00 al 2018-12-31 23:55:00, lo que corresponde 364 días. La población analizada fue la correspondiente al Servicio de Salud Viña del Mar Quillota, que según el censo del INE del año 2017 por comuna fue de 1050338.0 personas. La cantidad de atenciones, la población asignada y la cantidad de atenciones por 100000 habitantes se encuentra en la tabla adjunta.\n",
      "\n",
      "\\begin{table}[H] \n",
      " \\centering \n",
      "\\begin{tabular}{c}\n",
      "\\toprule\n",
      "{} &  Atenciones & Poblacion & Atenciones por 10000 habitantes \\\\\n",
      "\\textbf{Hospital                 } &             &           &                                 \\\\\n",
      "\\midrule\n",
      "\\textbf{Hospital de Petorca      } &       12120 &      9826 &                         123.346 \\\\\n",
      "\\textbf{Hospital de Cabildo      } &       27467 &     19388 &                          141.67 \\\\\n",
      "\\textbf{Hospital de Villa Alemana} &       39822 &    126548 &                         31.4679 \\\\\n",
      "\\textbf{Hospital de La Ligua     } &       45172 &     49085 &                         92.0281 \\\\\n",
      "\\textbf{Hospital de Quilpué      } &       47994 &    151708 &                         31.6358 \\\\\n",
      "\\textbf{Hospital de Limache      } &       48413 &     63637 &                         76.0768 \\\\\n",
      "\\textbf{Hospital de Calera       } &       51012 &     90662 &                         56.2661 \\\\\n",
      "\\textbf{Hospital de Quillota     } &       52077 &    112615 &                         46.2434 \\\\\n",
      "\\textbf{Hospital de Quintero     } &       56075 &     50469 &                         111.108 \\\\\n",
      "\\textbf{Hospital de Viña         } &      100628 &    376400 &                         26.7343 \\\\\n",
      "\\bottomrule\n",
      "\\end{tabular}\n",
      "\n",
      "\n",
      "\\caption{Atenciones en unidades de urgencia de los hospitales del SSVQ entre el 2018-01-01 00:03:00 y 2018-12-31 23:55:00. Se muestra también la población asignada y las atenciones por 100000 habitantes.\n",
      "}   \\end{table}\n",
      "\n"
     ]
    }
   ],
   "source": []
  },
  {
   "cell_type": "code",
   "execution_count": null,
   "metadata": {
    "collapsed": true
   },
   "outputs": [],
   "source": []
  },
  {
   "cell_type": "code",
   "execution_count": 36,
   "metadata": {},
   "outputs": [
    {
     "data": {
      "text/plain": [
       "\"{'01_descrip01': 'Se analizó desde el 2018-01-01 00:03:00 al 2018-12-31 23:55:00, lo que corresponde 364 días. La población analizada fue la correspondiente al Servicio de Salud Viña del Mar Quillota, que según el censo del INE del año 2017 por comuna fue de 1050338.0 personas. La cantidad de atenciones, la población asignada y la cantidad de atenciones por 100000 habitantes se encuentra en la tabla adjunta.\\\\n', '01Descrip_tab01': '\\\\\\\\begin{table}[H] \\\\n \\\\\\\\centering \\\\n\\\\\\\\begin{tabular}{lrll}\\\\n\\\\\\\\toprule\\\\n{} &  Atenciones & Poblacion & Atenciones por 10000 habitantes \\\\\\\\\\\\\\\\\\\\nHospital                  &             &           &                                 \\\\\\\\\\\\\\\\\\\\n\\\\\\\\midrule\\\\nHospital de Petorca       &       12120 &      9826 &                         123.346 \\\\\\\\\\\\\\\\\\\\nHospital de Cabildo       &       27467 &     19388 &                          141.67 \\\\\\\\\\\\\\\\\\\\nHospital de Villa Alemana &       39822 &    126548 &                         31.4679 \\\\\\\\\\\\\\\\\\\\nHospital de La Ligua      &       45172 &     49085 &                         92.0281 \\\\\\\\\\\\\\\\\\\\nHospital de Quilpué       &       47994 &    151708 &                         31.6358 \\\\\\\\\\\\\\\\\\\\nHospital de Limache       &       48413 &     63637 &                         76.0768 \\\\\\\\\\\\\\\\\\\\nHospital de Calera        &       51012 &     90662 &                         56.2661 \\\\\\\\\\\\\\\\\\\\nHospital de Quillota      &       52077 &    112615 &                         46.2434 \\\\\\\\\\\\\\\\\\\\nHospital de Quintero      &       56075 &     50469 &                         111.108 \\\\\\\\\\\\\\\\\\\\nHospital de Viña          &      100628 &    376400 &                         26.7343 \\\\\\\\\\\\\\\\\\\\n\\\\\\\\bottomrule\\\\n\\\\\\\\end{tabular}\\\\n\\\\n', '01Descrip_03cap01': '\\\\\\\\caption{Atenciones en unidades de urgencia de los hospitales del SSVQ entre el 2018-01-01 00:03:00 y 2018-12-31 23:55:00. Se muestra también la población asignada y las atenciones por 100000 habitantes.\\\\n}   \\\\\\\\end{table}'}\""
      ]
     },
     "execution_count": 36,
     "metadata": {},
     "output_type": "execute_result"
    }
   ],
   "source": []
  },
  {
   "cell_type": "code",
   "execution_count": null,
   "metadata": {
    "collapsed": true
   },
   "outputs": [],
   "source": []
  },
  {
   "cell_type": "code",
   "execution_count": null,
   "metadata": {
    "collapsed": true
   },
   "outputs": [],
   "source": []
  },
  {
   "cell_type": "code",
   "execution_count": null,
   "metadata": {
    "collapsed": true
   },
   "outputs": [],
   "source": []
  },
  {
   "cell_type": "code",
   "execution_count": null,
   "metadata": {
    "collapsed": true
   },
   "outputs": [],
   "source": []
  },
  {
   "cell_type": "code",
   "execution_count": null,
   "metadata": {
    "collapsed": true
   },
   "outputs": [],
   "source": []
  },
  {
   "cell_type": "code",
   "execution_count": null,
   "metadata": {
    "collapsed": true
   },
   "outputs": [],
   "source": []
  },
  {
   "cell_type": "code",
   "execution_count": null,
   "metadata": {
    "collapsed": true
   },
   "outputs": [],
   "source": []
  },
  {
   "cell_type": "code",
   "execution_count": null,
   "metadata": {
    "collapsed": true
   },
   "outputs": [],
   "source": []
  }
 ],
 "metadata": {
  "kernelspec": {
   "display_name": "Python 3",
   "language": "python",
   "name": "python3"
  },
  "language_info": {
   "codemirror_mode": {
    "name": "ipython",
    "version": 3
   },
   "file_extension": ".py",
   "mimetype": "text/x-python",
   "name": "python",
   "nbconvert_exporter": "python",
   "pygments_lexer": "ipython3",
   "version": "3.6.3"
  }
 },
 "nbformat": 4,
 "nbformat_minor": 2
}
